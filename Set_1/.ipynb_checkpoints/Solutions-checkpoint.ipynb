{
 "cells": [
  {
   "cell_type": "code",
   "execution_count": 1,
   "id": "8767e439-e551-433a-abad-3df1141e46d6",
   "metadata": {},
   "outputs": [],
   "source": [
    "import os\n",
    "os.environ[\"PYSPARK_PYTHON\"] = \"/home/shiva/venv/bin/python\"\n",
    "os.environ[\"PYSPARK_DRIVER_PYTHON\"] = \"/home/shiva/venv/bin/python\""
   ]
  },
  {
   "cell_type": "markdown",
   "id": "848efafb-0c9f-49cc-91d4-8e5bfbcd26a6",
   "metadata": {},
   "source": [
    "# __Practice Questions Solutions__"
   ]
  },
  {
   "cell_type": "markdown",
   "id": "bc2e45fb-edf4-43e3-b9d2-ace60382011a",
   "metadata": {},
   "source": [
    "__Sources__\n",
    "- Questions source - ChatGPT, (Questions.md)\n",
    "- Official answer source - ChatGPT, (Answers.md)\n",
    "- CSV source - Kaggle - https://www.kaggle.com/datasets/urvishahir/electric-vehicle-specifications-dataset-2025"
   ]
  },
  {
   "cell_type": "markdown",
   "id": "f7a468d2-d076-472e-8036-be87c01db72f",
   "metadata": {},
   "source": [
    "## __Setup__"
   ]
  },
  {
   "cell_type": "code",
   "execution_count": 51,
   "id": "779904fd-a624-4071-b1c7-e4deaa26c389",
   "metadata": {},
   "outputs": [],
   "source": [
    "import pyspark.sql as ps\n",
    "import pyspark.sql.functions as psf\n",
    "import pyspark.sql.types as pst\n",
    "import pandas as pd\n",
    "import pyspark.sql.window as psw"
   ]
  },
  {
   "cell_type": "code",
   "execution_count": 3,
   "id": "49256458-1171-4158-ac3f-f397f491a572",
   "metadata": {},
   "outputs": [
    {
     "name": "stderr",
     "output_type": "stream",
     "text": [
      "WARNING: Using incubator modules: jdk.incubator.vector\n",
      "Using Spark's default log4j profile: org/apache/spark/log4j2-defaults.properties\n",
      "25/07/03 22:55:17 WARN Utils: Your hostname, Victus, resolves to a loopback address: 127.0.1.1; using 192.168.29.87 instead (on interface wlo1)\n",
      "25/07/03 22:55:17 WARN Utils: Set SPARK_LOCAL_IP if you need to bind to another address\n",
      "Using Spark's default log4j profile: org/apache/spark/log4j2-defaults.properties\n",
      "Setting default log level to \"WARN\".\n",
      "To adjust logging level use sc.setLogLevel(newLevel). For SparkR, use setLogLevel(newLevel).\n",
      "25/07/03 22:55:18 WARN NativeCodeLoader: Unable to load native-hadoop library for your platform... using builtin-java classes where applicable\n"
     ]
    }
   ],
   "source": [
    "spark = (ps.SparkSession\n",
    "         .builder\n",
    "         .appName(\"EV Spec Practice\")\n",
    "         .getOrCreate()\n",
    "        )"
   ]
  },
  {
   "cell_type": "code",
   "execution_count": 4,
   "id": "8dbbaaed-8286-43f4-8696-deadf2e16110",
   "metadata": {},
   "outputs": [],
   "source": [
    "file_path = \"electric_vehicles_spec_2025.csv.csv\""
   ]
  },
  {
   "cell_type": "code",
   "execution_count": 5,
   "id": "546dd915-e13b-4a2e-9aa9-61c292c7ae54",
   "metadata": {},
   "outputs": [],
   "source": [
    "df = (\n",
    "    spark\n",
    "    .read\n",
    "    .option(\"samplingRatio\", 0.001)\n",
    "    .option(\"header\", \"true\")\n",
    "    .option(\"inferschema\", \"true\")\n",
    "    .csv(file_path)\n",
    ")"
   ]
  },
  {
   "cell_type": "code",
   "execution_count": 6,
   "id": "530cc6f1-495c-4145-b12c-b373ac0819d3",
   "metadata": {},
   "outputs": [
    {
     "data": {
      "text/plain": [
       "['brand',\n",
       " 'model',\n",
       " 'top_speed_kmh',\n",
       " 'battery_capacity_kWh',\n",
       " 'battery_type',\n",
       " 'number_of_cells',\n",
       " 'torque_nm',\n",
       " 'efficiency_wh_per_km',\n",
       " 'range_km',\n",
       " 'acceleration_0_100_s',\n",
       " 'fast_charging_power_kw_dc',\n",
       " 'fast_charge_port',\n",
       " 'towing_capacity_kg',\n",
       " 'cargo_volume_l',\n",
       " 'seats',\n",
       " 'drivetrain',\n",
       " 'segment',\n",
       " 'length_mm',\n",
       " 'width_mm',\n",
       " 'height_mm',\n",
       " 'car_body_type',\n",
       " 'source_url']"
      ]
     },
     "execution_count": 6,
     "metadata": {},
     "output_type": "execute_result"
    }
   ],
   "source": [
    "df.columns"
   ]
  },
  {
   "cell_type": "code",
   "execution_count": 7,
   "id": "af5c01d3-e71e-4ff3-bcd8-06b21ada11bd",
   "metadata": {},
   "outputs": [],
   "source": [
    "(\n",
    "    df\n",
    "    .createOrReplaceTempView(\"df_view\")\n",
    ")"
   ]
  },
  {
   "cell_type": "markdown",
   "id": "52341f3e-3888-4e9a-b30e-1b22a2e2f5a8",
   "metadata": {},
   "source": [
    "-------"
   ]
  },
  {
   "cell_type": "markdown",
   "id": "0580ee3c-eb7c-4220-b06a-b60979ab04db",
   "metadata": {},
   "source": [
    "#"
   ]
  },
  {
   "cell_type": "markdown",
   "id": "a5ed061d-629f-4fd1-8474-52cea3fa4d9e",
   "metadata": {},
   "source": [
    "## __Easy Questions__\n",
    "Focus: RDD/DataFrame basics, filtering, selecting, grouping, sorting, basic aggregations, handling nulls."
   ]
  },
  {
   "cell_type": "markdown",
   "id": "d724d71d-fe7d-4214-ba18-5ab8e5b07ee4",
   "metadata": {},
   "source": [
    "### __DataFrame Basics__"
   ]
  },
  {
   "cell_type": "markdown",
   "id": "8e789303-0290-4e59-9355-b6723d89670e",
   "metadata": {},
   "source": [
    "1. Load the CSV file into a DataFrame and print the schema."
   ]
  },
  {
   "cell_type": "markdown",
   "id": "4abf7175-2975-4e7b-8138-4d2047a96d26",
   "metadata": {},
   "source": [
    "```python\n",
    "df = (\n",
    "    spark\n",
    "    .read\n",
    "    .option(\"samplingRatio\", 0.001)\n",
    "    .option(\"header\", \"true\")\n",
    "    .option(\"inferschema\", \"true\")\n",
    "    .csv(file_path)\n",
    ")```"
   ]
  },
  {
   "cell_type": "code",
   "execution_count": 52,
   "id": "b9593c23-7571-4dbb-9837-bb77489ce15a",
   "metadata": {},
   "outputs": [
    {
     "name": "stdout",
     "output_type": "stream",
     "text": [
      "root\n",
      " |-- brand: string (nullable = true)\n",
      " |-- model: string (nullable = true)\n",
      " |-- top_speed_kmh: integer (nullable = true)\n",
      " |-- battery_capacity_kWh: double (nullable = true)\n",
      " |-- battery_type: string (nullable = true)\n",
      " |-- number_of_cells: integer (nullable = true)\n",
      " |-- torque_nm: integer (nullable = true)\n",
      " |-- efficiency_wh_per_km: integer (nullable = true)\n",
      " |-- range_km: integer (nullable = true)\n",
      " |-- acceleration_0_100_s: double (nullable = true)\n",
      " |-- fast_charging_power_kw_dc: integer (nullable = true)\n",
      " |-- fast_charge_port: string (nullable = true)\n",
      " |-- towing_capacity_kg: integer (nullable = true)\n",
      " |-- cargo_volume_l: integer (nullable = true)\n",
      " |-- seats: integer (nullable = true)\n",
      " |-- drivetrain: string (nullable = true)\n",
      " |-- segment: string (nullable = true)\n",
      " |-- length_mm: integer (nullable = true)\n",
      " |-- width_mm: integer (nullable = true)\n",
      " |-- height_mm: integer (nullable = true)\n",
      " |-- car_body_type: string (nullable = true)\n",
      " |-- source_url: string (nullable = true)\n",
      "\n"
     ]
    }
   ],
   "source": [
    "df.printSchema()"
   ]
  },
  {
   "cell_type": "code",
   "execution_count": 53,
   "id": "278ed473-60f6-4df9-a0f4-a3f9971ae26d",
   "metadata": {},
   "outputs": [
    {
     "data": {
      "text/plain": [
       "StructType([StructField('brand', StringType(), True), StructField('model', StringType(), True), StructField('top_speed_kmh', IntegerType(), True), StructField('battery_capacity_kWh', DoubleType(), True), StructField('battery_type', StringType(), True), StructField('number_of_cells', IntegerType(), True), StructField('torque_nm', IntegerType(), True), StructField('efficiency_wh_per_km', IntegerType(), True), StructField('range_km', IntegerType(), True), StructField('acceleration_0_100_s', DoubleType(), True), StructField('fast_charging_power_kw_dc', IntegerType(), True), StructField('fast_charge_port', StringType(), True), StructField('towing_capacity_kg', IntegerType(), True), StructField('cargo_volume_l', IntegerType(), True), StructField('seats', IntegerType(), True), StructField('drivetrain', StringType(), True), StructField('segment', StringType(), True), StructField('length_mm', IntegerType(), True), StructField('width_mm', IntegerType(), True), StructField('height_mm', IntegerType(), True), StructField('car_body_type', StringType(), True), StructField('source_url', StringType(), True)])"
      ]
     },
     "execution_count": 53,
     "metadata": {},
     "output_type": "execute_result"
    }
   ],
   "source": [
    "df.schema"
   ]
  },
  {
   "cell_type": "markdown",
   "id": "3511f0e0-607a-4089-a232-341429cd1edb",
   "metadata": {},
   "source": [
    "---"
   ]
  },
  {
   "cell_type": "markdown",
   "id": "43f4272e-5956-44c6-8afd-b6d321e2daf7",
   "metadata": {},
   "source": [
    "## "
   ]
  },
  {
   "cell_type": "markdown",
   "id": "57ed2961-e5c9-46ba-8017-e9e687d50fc8",
   "metadata": {},
   "source": [
    "2. Display the first 10 rows of the DataFrame."
   ]
  },
  {
   "cell_type": "code",
   "execution_count": 54,
   "id": "a6d3cc2a-c236-4c0e-a7ff-cb470493f61a",
   "metadata": {},
   "outputs": [
    {
     "name": "stdout",
     "output_type": "stream",
     "text": [
      "+------+--------------------+-------------+--------------------+------------+---------------+---------+--------------------+--------+--------------------+-------------------------+----------------+------------------+--------------+-----+----------+------------+---------+--------+---------+-------------+--------------------+\n",
      "| brand|               model|top_speed_kmh|battery_capacity_kWh|battery_type|number_of_cells|torque_nm|efficiency_wh_per_km|range_km|acceleration_0_100_s|fast_charging_power_kw_dc|fast_charge_port|towing_capacity_kg|cargo_volume_l|seats|drivetrain|     segment|length_mm|width_mm|height_mm|car_body_type|          source_url|\n",
      "+------+--------------------+-------------+--------------------+------------+---------------+---------+--------------------+--------+--------------------+-------------------------+----------------+------------------+--------------+-----+----------+------------+---------+--------+---------+-------------+--------------------+\n",
      "|Abarth|    500e Convertible|          155|                37.8| Lithium-ion|            192|      235|                 156|     225|                 7.0|                       67|             CCS|                 0|           185|    4|       FWD| B - Compact|     3673|    1683|     1518|    Hatchback|https://ev-databa...|\n",
      "|Abarth|      500e Hatchback|          155|                37.8| Lithium-ion|            192|      235|                 149|     225|                 7.0|                       67|             CCS|                 0|           185|    4|       FWD| B - Compact|     3673|    1683|     1518|    Hatchback|https://ev-databa...|\n",
      "|Abarth| 600e Scorpionissima|          200|                50.8| Lithium-ion|            102|      345|                 158|     280|                 5.9|                       79|             CCS|                 0|           360|    5|       FWD|JB - Compact|     4187|    1779|     1557|          SUV|https://ev-databa...|\n",
      "|Abarth|        600e Turismo|          200|                50.8| Lithium-ion|            102|      345|                 158|     280|                 6.2|                       79|             CCS|                 0|           360|    5|       FWD|JB - Compact|     4187|    1779|     1557|          SUV|https://ev-databa...|\n",
      "|Aiways|                  U5|          150|                60.0| Lithium-ion|           NULL|      310|                 156|     315|                 7.5|                       78|             CCS|              NULL|           496|    5|       FWD| JC - Medium|     4680|    1865|     1700|          SUV|https://ev-databa...|\n",
      "|Aiways|                  U6|          160|                60.0| Lithium-ion|           NULL|      315|                 150|     350|                 7.0|                       78|             CCS|              NULL|           472|    5|       FWD| JC - Medium|     4805|    1880|     1641|          SUV|https://ev-databa...|\n",
      "|  Alfa|Romeo Junior Elet...|          150|                50.8| Lithium-ion|            102|      260|                 128|     320|                 9.0|                       85|             CCS|                 0|           400|    5|       FWD|JB - Compact|     4173|    1781|     1532|          SUV|https://ev-databa...|\n",
      "|  Alfa|Romeo Junior Elet...|          200|                50.8| Lithium-ion|            102|      345|                 164|     310|                 6.0|                       85|             CCS|                 0|           400|    5|       FWD|JB - Compact|     4173|    1781|     1505|          SUV|https://ev-databa...|\n",
      "|Alpine|A290 Electric 180 hp|          160|                52.0| Lithium-ion|            184|      285|                 138|     310|                 7.4|                       70|             CCS|               500|           326|    5|       FWD| B - Compact|     3997|    1823|     1512|    Hatchback|https://ev-databa...|\n",
      "|Alpine|A290 Electric 220 hp|          170|                52.0| Lithium-ion|            184|      300|                 144|     305|                 6.4|                       70|             CCS|               500|           326|    5|       FWD| B - Compact|     3997|    1823|     1512|    Hatchback|https://ev-databa...|\n",
      "+------+--------------------+-------------+--------------------+------------+---------------+---------+--------------------+--------+--------------------+-------------------------+----------------+------------------+--------------+-----+----------+------------+---------+--------+---------+-------------+--------------------+\n",
      "only showing top 10 rows\n"
     ]
    }
   ],
   "source": [
    "df.show(10)"
   ]
  },
  {
   "cell_type": "markdown",
   "id": "3850fca3-51fa-4d4f-9d7f-7ed7f05203e7",
   "metadata": {},
   "source": [
    "-------"
   ]
  },
  {
   "cell_type": "markdown",
   "id": "c3f2fc65-5d51-48f3-ba46-f54cd270b10d",
   "metadata": {},
   "source": [
    "##"
   ]
  },
  {
   "cell_type": "markdown",
   "id": "0b2f3805-d9a8-4b27-9811-0181eeba58fa",
   "metadata": {},
   "source": [
    "3. Select only `brand`, `model`, and `range_km` columns."
   ]
  },
  {
   "cell_type": "code",
   "execution_count": 55,
   "id": "a3576880-8891-40d1-9599-cfd21b292830",
   "metadata": {},
   "outputs": [],
   "source": [
    "ans_df_3 = (\n",
    "    df\n",
    "    .select(\"brand\", \"model\", \"range_km\")\n",
    ")"
   ]
  },
  {
   "cell_type": "code",
   "execution_count": 56,
   "id": "d494dfc4-7882-4ab9-876c-f5a953e67c91",
   "metadata": {},
   "outputs": [
    {
     "name": "stdout",
     "output_type": "stream",
     "text": [
      "+------+--------------------+--------+\n",
      "| brand|               model|range_km|\n",
      "+------+--------------------+--------+\n",
      "|Abarth|    500e Convertible|     225|\n",
      "|Abarth|      500e Hatchback|     225|\n",
      "|Abarth| 600e Scorpionissima|     280|\n",
      "|Abarth|        600e Turismo|     280|\n",
      "|Aiways|                  U5|     315|\n",
      "|Aiways|                  U6|     350|\n",
      "|  Alfa|Romeo Junior Elet...|     320|\n",
      "|  Alfa|Romeo Junior Elet...|     310|\n",
      "|Alpine|A290 Electric 180 hp|     310|\n",
      "|Alpine|A290 Electric 220 hp|     305|\n",
      "+------+--------------------+--------+\n",
      "only showing top 10 rows\n"
     ]
    }
   ],
   "source": [
    "ans_df_3.show(10)"
   ]
  },
  {
   "cell_type": "markdown",
   "id": "e818e120-2500-4ec6-b865-300ed769dab5",
   "metadata": {},
   "source": [
    "----\n",
    "##"
   ]
  },
  {
   "cell_type": "markdown",
   "id": "4a74909c-8e90-4a5b-82bd-f004a4009e9d",
   "metadata": {},
   "source": [
    "4. Rename the column `battery_capacity_kWh` to `battery_kWh`."
   ]
  },
  {
   "cell_type": "code",
   "execution_count": 58,
   "id": "8b0e9419-997b-45fd-b05d-628d41c01a91",
   "metadata": {},
   "outputs": [],
   "source": [
    "df_renamed = (\n",
    "    df\n",
    "    .withColumnRenamed(\"battery_capacity_kwh\", \"battery_kwh\")\n",
    ")"
   ]
  },
  {
   "cell_type": "code",
   "execution_count": 61,
   "id": "82141f0f-22a2-4017-b935-b0941d461827",
   "metadata": {},
   "outputs": [
    {
     "data": {
      "text/plain": [
       "['brand',\n",
       " 'model',\n",
       " 'top_speed_kmh',\n",
       " 'battery_kwh',\n",
       " 'battery_type',\n",
       " 'number_of_cells',\n",
       " 'torque_nm',\n",
       " 'efficiency_wh_per_km',\n",
       " 'range_km',\n",
       " 'acceleration_0_100_s',\n",
       " 'fast_charging_power_kw_dc',\n",
       " 'fast_charge_port',\n",
       " 'towing_capacity_kg',\n",
       " 'cargo_volume_l',\n",
       " 'seats',\n",
       " 'drivetrain',\n",
       " 'segment',\n",
       " 'length_mm',\n",
       " 'width_mm',\n",
       " 'height_mm',\n",
       " 'car_body_type',\n",
       " 'source_url']"
      ]
     },
     "execution_count": 61,
     "metadata": {},
     "output_type": "execute_result"
    }
   ],
   "source": [
    "df_renamed.columns"
   ]
  },
  {
   "cell_type": "markdown",
   "id": "17e20e29-ab09-46b8-9110-d5634ab3c4f7",
   "metadata": {},
   "source": [
    "---\n",
    "##"
   ]
  },
  {
   "cell_type": "markdown",
   "id": "95a245de-4e82-4c33-9c3a-350bda50ec27",
   "metadata": {},
   "source": [
    "5. Drop the `source_url` column from the DataFrame."
   ]
  },
  {
   "cell_type": "code",
   "execution_count": 62,
   "id": "dd31960c-9b46-455e-83be-f599571ae84a",
   "metadata": {},
   "outputs": [],
   "source": [
    "dropped_source_url_df = (\n",
    "    df\n",
    "    .drop(\"source_url\")\n",
    ")"
   ]
  },
  {
   "cell_type": "code",
   "execution_count": 66,
   "id": "106169dd-a2dd-4795-a0eb-f1981beb3284",
   "metadata": {},
   "outputs": [
    {
     "data": {
      "text/plain": [
       "22"
      ]
     },
     "execution_count": 66,
     "metadata": {},
     "output_type": "execute_result"
    }
   ],
   "source": [
    "len(df.columns)"
   ]
  },
  {
   "cell_type": "code",
   "execution_count": 67,
   "id": "4e9dd033-05b2-4d8a-8f3f-96473e6edc50",
   "metadata": {},
   "outputs": [
    {
     "data": {
      "text/plain": [
       "21"
      ]
     },
     "execution_count": 67,
     "metadata": {},
     "output_type": "execute_result"
    }
   ],
   "source": [
    "len(dropped_source_url_df.columns)"
   ]
  },
  {
   "cell_type": "markdown",
   "id": "44d99e83-f828-4b70-8e68-73901cd3b248",
   "metadata": {},
   "source": [
    "---\n",
    "## "
   ]
  },
  {
   "cell_type": "markdown",
   "id": "175f0e74-80fe-4f26-a92e-b9b4b61322fe",
   "metadata": {},
   "source": [
    "### __Filtering & Selection__\n",
    "\n",
    "6. Filter rows where `brand` is \"Abarth\"."
   ]
  },
  {
   "cell_type": "code",
   "execution_count": 72,
   "id": "24d848b0-5a08-476b-b7b2-58b557cf5212",
   "metadata": {
    "scrolled": true
   },
   "outputs": [
    {
     "name": "stdout",
     "output_type": "stream",
     "text": [
      "+------+-------------------+\n",
      "| brand|              model|\n",
      "+------+-------------------+\n",
      "|Abarth|   500e Convertible|\n",
      "|Abarth|     500e Hatchback|\n",
      "|Abarth|600e Scorpionissima|\n",
      "|Abarth|       600e Turismo|\n",
      "+------+-------------------+\n",
      "\n"
     ]
    }
   ],
   "source": [
    "(\n",
    "    df\n",
    "    .filter(psf.expr(\"brand == 'Abarth'\"))\n",
    "    .select(\"brand\", \"model\")\n",
    "    .show(10)\n",
    ")"
   ]
  },
  {
   "cell_type": "markdown",
   "id": "6b163aa9-3b2c-4027-9f1c-511fb3c25be5",
   "metadata": {},
   "source": [
    "----\n",
    "## "
   ]
  },
  {
   "cell_type": "markdown",
   "id": "22084fe1-aae8-4eaa-907f-c0cb2c6c4a42",
   "metadata": {},
   "source": [
    "7. Find all vehicles with `top_speed_kmh` greater than 180."
   ]
  },
  {
   "cell_type": "code",
   "execution_count": 79,
   "id": "c49095cb-fc90-417f-b307-df9d0525ae31",
   "metadata": {},
   "outputs": [],
   "source": [
    "query = \"\"\"\n",
    "    SELECT\n",
    "        brand,\n",
    "        model,\n",
    "        top_speed_kmh\n",
    "    FROM\n",
    "        df_view\n",
    "    WHERE\n",
    "        top_speed_kmh > 180\n",
    "\"\"\""
   ]
  },
  {
   "cell_type": "code",
   "execution_count": 80,
   "id": "34d15e4a-7449-4153-9788-637a7fc62131",
   "metadata": {},
   "outputs": [
    {
     "name": "stdout",
     "output_type": "stream",
     "text": [
      "+------+--------------------+-------------+\n",
      "| brand|               model|top_speed_kmh|\n",
      "+------+--------------------+-------------+\n",
      "|Abarth| 600e Scorpionissima|          200|\n",
      "|Abarth|        600e Turismo|          200|\n",
      "|  Alfa|Romeo Junior Elet...|          200|\n",
      "|  Audi|     A6 Avant e-tron|          210|\n",
      "|  Audi|A6 Avant e-tron p...|          210|\n",
      "|  Audi|A6 Avant e-tron q...|          210|\n",
      "|  Audi| A6 Sportback e-tron|          210|\n",
      "|  Audi|A6 Sportback e-tr...|          210|\n",
      "|  Audi|A6 Sportback e-tr...|          210|\n",
      "|  Audi|           Q6 e-tron|          210|\n",
      "+------+--------------------+-------------+\n",
      "only showing top 10 rows\n"
     ]
    }
   ],
   "source": [
    "spark.sql(query).show(10)"
   ]
  },
  {
   "cell_type": "markdown",
   "id": "ab351272-a207-439e-8ff3-728c5e57ff76",
   "metadata": {},
   "source": [
    "---\n",
    "## "
   ]
  },
  {
   "cell_type": "markdown",
   "id": "d115f4f0-c41d-4289-9038-d8083797d80f",
   "metadata": {},
   "source": [
    "8. Filter rows where `torque_nm` is not null."
   ]
  },
  {
   "cell_type": "code",
   "execution_count": 83,
   "id": "a40c43db-ae6b-4bb7-a207-ab3e0201151a",
   "metadata": {},
   "outputs": [
    {
     "name": "stdout",
     "output_type": "stream",
     "text": [
      "+------+-------------------+---------+\n",
      "| brand|              model|torque_nm|\n",
      "+------+-------------------+---------+\n",
      "|Abarth|   500e Convertible|      235|\n",
      "|Abarth|     500e Hatchback|      235|\n",
      "|Abarth|600e Scorpionissima|      345|\n",
      "|Abarth|       600e Turismo|      345|\n",
      "|Aiways|                 U5|      310|\n",
      "+------+-------------------+---------+\n",
      "only showing top 5 rows\n"
     ]
    }
   ],
   "source": [
    "(\n",
    "    df\n",
    "    .select(\"brand\", \"model\", \"torque_nm\")\n",
    "    .filter(psf.col(\"torque_nm\").isNotNull())\n",
    "    .show(5)\n",
    ")"
   ]
  },
  {
   "cell_type": "markdown",
   "id": "2afcb85f-ac07-4423-be2d-9cef10266bf9",
   "metadata": {},
   "source": [
    "------\n",
    "## \n"
   ]
  },
  {
   "cell_type": "markdown",
   "id": "dd914ab5-bbed-4025-a03e-76b140815d54",
   "metadata": {},
   "source": [
    "9. Retrieve vehicles where `range_km` is between 250 and 300."
   ]
  },
  {
   "cell_type": "code",
   "execution_count": 85,
   "id": "80b2910e-8208-4e8f-bc92-65b800d8486c",
   "metadata": {},
   "outputs": [],
   "source": [
    "query = \"\"\"\n",
    "    SELECT\n",
    "        brand,\n",
    "        model,\n",
    "        range_km\n",
    "    FROM\n",
    "        df_view\n",
    "    WHERE\n",
    "        range_km BETWEEN 250 AND 300\n",
    "    ORDER BY\n",
    "        range_km\n",
    "\"\"\""
   ]
  },
  {
   "cell_type": "code",
   "execution_count": 86,
   "id": "a9e9cbd2-1df4-4f7c-addb-6ce3e3374140",
   "metadata": {},
   "outputs": [
    {
     "name": "stdout",
     "output_type": "stream",
     "text": [
      "+--------+--------------------+--------+\n",
      "|   brand|               model|range_km|\n",
      "+--------+--------------------+--------+\n",
      "|    Mini|            Cooper E|     250|\n",
      "| firefly|                NULL|     250|\n",
      "| Renault|5 E-Tech 40kWh 120hp|     250|\n",
      "|   Smart|              #1 Pro|     250|\n",
      "|   Smart|             #1 Pure|     250|\n",
      "|Dongfeng|        Box 42.3 kWh|     255|\n",
      "| Citroen|                e-C3|     255|\n",
      "| Hyundai|INSTER Standard R...|     255|\n",
      "| Renault| 5 E-Tech 40kWh 95hp|     255|\n",
      "| Citroen|e-SpaceTourer M 7...|     260|\n",
      "+--------+--------------------+--------+\n",
      "only showing top 10 rows\n"
     ]
    }
   ],
   "source": [
    "spark.sql(query).show(10)"
   ]
  },
  {
   "cell_type": "markdown",
   "id": "0858f3bc-32dc-4a3c-bb44-f9ff108f9a87",
   "metadata": {},
   "source": [
    "---\n",
    "##"
   ]
  },
  {
   "cell_type": "markdown",
   "id": "7f00e24c-014f-49b2-a367-c29e6ecb9923",
   "metadata": {},
   "source": [
    "10. Filter SUVs with more than 4 seats."
   ]
  },
  {
   "cell_type": "code",
   "execution_count": 93,
   "id": "375e4d9c-e858-4aee-9686-cfb8e0e230b6",
   "metadata": {},
   "outputs": [
    {
     "name": "stdout",
     "output_type": "stream",
     "text": [
      "+------+--------------------+-------------+-----+\n",
      "| brand|               model|car_body_type|seats|\n",
      "+------+--------------------+-------------+-----+\n",
      "|Abarth| 600e Scorpionissima|          SUV|    5|\n",
      "|Abarth|        600e Turismo|          SUV|    5|\n",
      "|Aiways|                  U5|          SUV|    5|\n",
      "|Aiways|                  U6|          SUV|    5|\n",
      "|  Alfa|Romeo Junior Elet...|          SUV|    5|\n",
      "|  Alfa|Romeo Junior Elet...|          SUV|    5|\n",
      "|  Audi|Q4 Sportback e-tr...|          SUV|    5|\n",
      "|  Audi|Q4 Sportback e-tr...|          SUV|    5|\n",
      "|  Audi|Q4 Sportback e-tr...|          SUV|    5|\n",
      "|  Audi|Q4 Sportback e-tr...|          SUV|    5|\n",
      "+------+--------------------+-------------+-----+\n",
      "only showing top 10 rows\n"
     ]
    }
   ],
   "source": [
    "(\n",
    "    df\n",
    "    .select(\"brand\", \"model\", \"car_body_type\", \"seats\")\n",
    "    .filter(psf.col(\"car_body_type\") == \"SUV\")\n",
    "    .filter(psf.col(\"seats\") > 4)\n",
    "    .orderBy(\"seats\")\n",
    "    .show(10)\n",
    ")"
   ]
  },
  {
   "cell_type": "markdown",
   "id": "a4302e44-0da7-4541-ad86-768425601661",
   "metadata": {},
   "source": [
    "----\n",
    "## "
   ]
  },
  {
   "cell_type": "markdown",
   "id": "edf69d64-96cd-4d5a-8c09-0aa3a8875ef3",
   "metadata": {},
   "source": [
    "### __Aggregations__\n",
    "\n",
    "11. Calculate the average `efficiency_wh_per_km` for each `brand`."
   ]
  },
  {
   "cell_type": "code",
   "execution_count": 99,
   "id": "06cc3bc2-b159-47f2-b87d-e6d7ddd9e685",
   "metadata": {},
   "outputs": [
    {
     "name": "stdout",
     "output_type": "stream",
     "text": [
      "+-----------+-------------------------+\n",
      "|      brand|avg(efficiency_wh_per_km)|\n",
      "+-----------+-------------------------+\n",
      "|  Leapmotor|                    151.0|\n",
      "| Volkswagen|       150.08695652173913|\n",
      "|    Peugeot|        159.3684210526316|\n",
      "|        NIO|       181.08333333333334|\n",
      "|      Lexus|       150.66666666666666|\n",
      "|   Polestar|       156.44444444444446|\n",
      "|     Jaguar|                    208.0|\n",
      "|   Maserati|                    200.0|\n",
      "|Rolls-Royce|                    192.0|\n",
      "|       Jeep|                    140.0|\n",
      "+-----------+-------------------------+\n",
      "only showing top 10 rows\n"
     ]
    }
   ],
   "source": [
    "(\n",
    "    df\n",
    "    .groupBy(\"brand\")\n",
    "    .avg(\"efficiency_wh_per_km\")\n",
    "    .show(10)\n",
    ")"
   ]
  },
  {
   "cell_type": "code",
   "execution_count": 105,
   "id": "ee67cee6-ba54-4d80-ba42-d0efbe2a8262",
   "metadata": {},
   "outputs": [
    {
     "name": "stdout",
     "output_type": "stream",
     "text": [
      "+-----------+------------------+\n",
      "|      brand|           average|\n",
      "+-----------+------------------+\n",
      "|  Leapmotor|             151.0|\n",
      "| Volkswagen|150.08695652173913|\n",
      "|    Peugeot| 159.3684210526316|\n",
      "|        NIO|181.08333333333334|\n",
      "|      Lexus|150.66666666666666|\n",
      "|   Polestar|156.44444444444446|\n",
      "|     Jaguar|             208.0|\n",
      "|   Maserati|             200.0|\n",
      "|Rolls-Royce|             192.0|\n",
      "|       Jeep|             140.0|\n",
      "+-----------+------------------+\n",
      "only showing top 10 rows\n"
     ]
    }
   ],
   "source": [
    "(\n",
    "    df\n",
    "    .groupBy(\"brand\")\n",
    "    .agg(psf.avg(\"efficiency_wh_per_km\").alias(\"average\"))\n",
    "    .show(10)\n",
    ")"
   ]
  },
  {
   "cell_type": "markdown",
   "id": "5960db46-a70a-4518-aeb6-fd3798e130f1",
   "metadata": {},
   "source": [
    "---\n",
    "## "
   ]
  },
  {
   "cell_type": "markdown",
   "id": "0f166d37-b7d8-4bda-be35-0169434240cb",
   "metadata": {},
   "source": [
    "12. Find the maximum `top_speed_kmh` for each `brand`."
   ]
  },
  {
   "cell_type": "code",
   "execution_count": 106,
   "id": "a1aaaf50-847f-493d-97db-e44da3935162",
   "metadata": {},
   "outputs": [
    {
     "name": "stdout",
     "output_type": "stream",
     "text": [
      "+-----------+---------+\n",
      "|      brand|Max_speed|\n",
      "+-----------+---------+\n",
      "|  Leapmotor|      170|\n",
      "| Volkswagen|      200|\n",
      "|    Peugeot|      170|\n",
      "|        NIO|      200|\n",
      "|      Lexus|      160|\n",
      "|   Polestar|      210|\n",
      "|     Jaguar|      200|\n",
      "|   Maserati|      325|\n",
      "|Rolls-Royce|      250|\n",
      "|       Jeep|      180|\n",
      "+-----------+---------+\n",
      "only showing top 10 rows\n"
     ]
    }
   ],
   "source": [
    "(\n",
    "    df\n",
    "    .select(\"brand\", \"top_speed_kmh\")\n",
    "    .groupBy(\"brand\")\n",
    "    .agg(psf.max(\"top_speed_kmh\").alias(\"Max_speed\"))\n",
    "    .show(10)\n",
    ")"
   ]
  },
  {
   "cell_type": "markdown",
   "id": "e8999b09-9542-4b18-85d3-554c71e41edb",
   "metadata": {},
   "source": [
    "---\n",
    "## "
   ]
  },
  {
   "cell_type": "markdown",
   "id": "af0fe177-bdf0-4ce3-a988-8e4e95c2c3dc",
   "metadata": {},
   "source": [
    "13. Count how many distinct `car_body_type` values exist."
   ]
  },
  {
   "cell_type": "code",
   "execution_count": 107,
   "id": "a4ec9ab7-bb6d-422c-9911-4a60cad63150",
   "metadata": {},
   "outputs": [
    {
     "name": "stdout",
     "output_type": "stream",
     "text": [
      "+------------+\n",
      "|distinct num|\n",
      "+------------+\n",
      "|           8|\n",
      "+------------+\n",
      "\n"
     ]
    }
   ],
   "source": [
    "(\n",
    "    df\n",
    "    .agg(psf.count_distinct(\"car_body_type\").alias(\"distinct num\"))\n",
    "    .show()\n",
    ")"
   ]
  },
  {
   "cell_type": "code",
   "execution_count": 108,
   "id": "51c0f504-8d84-4b27-9469-33aaf455eab1",
   "metadata": {},
   "outputs": [
    {
     "data": {
      "text/plain": [
       "8"
      ]
     },
     "execution_count": 108,
     "metadata": {},
     "output_type": "execute_result"
    }
   ],
   "source": [
    "(\n",
    "    df\n",
    "    .select(\"car_body_type\")\n",
    "    .distinct()\n",
    "    .count()\n",
    ")"
   ]
  },
  {
   "cell_type": "markdown",
   "id": "24ff0409-48bf-4acb-b868-59615fb8fa1a",
   "metadata": {},
   "source": [
    "---\n",
    "## "
   ]
  },
  {
   "cell_type": "markdown",
   "id": "d52656a2-d99b-43e3-97a1-2beb7d8fe4a7",
   "metadata": {},
   "source": [
    "14. Compute the total number of vehicles for each `segment`."
   ]
  },
  {
   "cell_type": "code",
   "execution_count": 113,
   "id": "22e781ba-509f-4bae-8f60-731c073dfee1",
   "metadata": {},
   "outputs": [
    {
     "name": "stdout",
     "output_type": "stream",
     "text": [
      "+-----------------+-----+\n",
      "|          segment|count|\n",
      "+-----------------+-----+\n",
      "|     JB - Compact|   44|\n",
      "|N - Passenger Van|   47|\n",
      "|         A - Mini|    3|\n",
      "|      B - Compact|   29|\n",
      "|       F - Luxury|   51|\n",
      "|       JD - Large|   58|\n",
      "|       C - Medium|   34|\n",
      "|        D - Large|   28|\n",
      "|    E - Executive|   30|\n",
      "|      JF - Luxury|   30|\n",
      "+-----------------+-----+\n",
      "only showing top 10 rows\n"
     ]
    }
   ],
   "source": [
    "(\n",
    "    df\n",
    "    .groupBy(\"segment\")\n",
    "    .count()\n",
    "    .show(10)\n",
    ")"
   ]
  },
  {
   "cell_type": "markdown",
   "id": "abb4e702-ede5-4b7f-85ff-5ed30f31cb1c",
   "metadata": {},
   "source": [
    "---\n",
    "## "
   ]
  },
  {
   "cell_type": "markdown",
   "id": "855a5e84-e2d8-40de-9e5e-c050579ffaf3",
   "metadata": {},
   "source": [
    "15. Group by `drivetrain` and calculate the average `acceleration_0_100_s`."
   ]
  },
  {
   "cell_type": "code",
   "execution_count": 115,
   "id": "3cc3ac2a-abae-4884-b419-018edb7c279d",
   "metadata": {},
   "outputs": [
    {
     "name": "stdout",
     "output_type": "stream",
     "text": [
      "+----------+------------------+\n",
      "|drivetrain|           average|\n",
      "+----------+------------------+\n",
      "|       FWD| 9.730128205128207|\n",
      "|       AWD|4.5539267015706795|\n",
      "|       RWD| 6.887022900763362|\n",
      "+----------+------------------+\n",
      "\n"
     ]
    }
   ],
   "source": [
    "(\n",
    "    df\n",
    "    .groupBy(\"drivetrain\")\n",
    "    .agg(psf.avg(\"acceleration_0_100_s\").alias(\"average\"))\n",
    "    .show(10)\n",
    ")"
   ]
  },
  {
   "cell_type": "markdown",
   "id": "4278c9e2-3c0c-4f1f-ab50-c8dee190cebd",
   "metadata": {},
   "source": [
    "---\n",
    "## "
   ]
  },
  {
   "cell_type": "markdown",
   "id": "61b5c756-9f00-4ba2-8484-71f6a27c6f44",
   "metadata": {},
   "source": [
    "### __Sorting__"
   ]
  },
  {
   "cell_type": "markdown",
   "id": "27192574-cc1d-45da-8a6a-dd3d1abee6b8",
   "metadata": {},
   "source": [
    "16. Sort the DataFrame by `range_km` in descending order."
   ]
  },
  {
   "cell_type": "code",
   "execution_count": 117,
   "id": "cdbf0b59-24ca-42da-bebf-a0e4f62266f1",
   "metadata": {},
   "outputs": [
    {
     "name": "stdout",
     "output_type": "stream",
     "text": [
      "+-------------+--------------------+--------+\n",
      "|        brand|               model|range_km|\n",
      "+-------------+--------------------+--------+\n",
      "|Mercedes-Benz|            EQS 450+|     685|\n",
      "|        Lucid|   Air Grand Touring|     665|\n",
      "|Mercedes-Benz|      EQS 450 4MATIC|     655|\n",
      "|Mercedes-Benz|      EQS 500 4MATIC|     640|\n",
      "|Mercedes-Benz|      EQS 580 4MATIC|     640|\n",
      "|         Audi|A6 Sportback e-tr...|     610|\n",
      "|         Audi|A6 Sportback e-tr...|     590|\n",
      "|Mercedes-Benz|  EQS AMG 53 4MATIC+|     585|\n",
      "|        Lucid|         Air Touring|     580|\n",
      "|         Audi|A6 Avant e-tron p...|     575|\n",
      "+-------------+--------------------+--------+\n",
      "only showing top 10 rows\n"
     ]
    }
   ],
   "source": [
    "(\n",
    "    df\n",
    "    .select(\"brand\", \"model\", \"range_km\")\n",
    "    .sort(\"range_km\", ascending=False)\n",
    "    .show(10)\n",
    ")"
   ]
  },
  {
   "cell_type": "markdown",
   "id": "a6c7e814-0bea-4fd4-b4fe-1d66f9ac8f31",
   "metadata": {},
   "source": [
    "---\n",
    "## "
   ]
  },
  {
   "cell_type": "markdown",
   "id": "ecaa4f11-7793-4f14-8396-3f696c06aad8",
   "metadata": {},
   "source": [
    "17. Sort vehicles by `battery_capacity_kWh`, then by `top_speed_kmh`."
   ]
  },
  {
   "cell_type": "code",
   "execution_count": 121,
   "id": "f53d8fdc-7b21-4227-b1b4-9be9a9e64f82",
   "metadata": {},
   "outputs": [
    {
     "name": "stdout",
     "output_type": "stream",
     "text": [
      "+---------+--------------------+--------------------+-------------+\n",
      "|    brand|               model|battery_capacity_kWh|top_speed_kmh|\n",
      "+---------+--------------------+--------------------+-------------+\n",
      "|     Fiat|     500e 3+1 24 kWh|                21.3|          135|\n",
      "|     Fiat|  500e Cabrio 24 kWh|                21.3|          135|\n",
      "|     Fiat|500e Hatchback 24...|                21.3|          135|\n",
      "|    Dacia|  Spring Electric 65|                25.0|          125|\n",
      "|    Dacia|  Spring Electric 45|                25.0|          125|\n",
      "| Dongfeng|        Box 31.4 kWh|                29.0|          140|\n",
      "|      BYD|DOLPHIN SURF 30 k...|                30.0|          150|\n",
      "|Leapmotor|                 T03|                36.0|          130|\n",
      "|     Mini|            Cooper E|                36.6|          160|\n",
      "|     Fiat|     500e 3+1 42 kWh|                37.3|          150|\n",
      "|     Fiat|  500e Cabrio 42 kWh|                37.3|          150|\n",
      "|     Fiat|500e Hatchback 42...|                37.3|          150|\n",
      "|   Abarth|    500e Convertible|                37.8|          155|\n",
      "|   Abarth|      500e Hatchback|                37.8|          155|\n",
      "|     Mini|            Aceman E|                38.5|          160|\n",
      "|  Hyundai|INSTER Standard R...|                39.0|          140|\n",
      "|  Renault| 5 E-Tech 40kWh 95hp|                40.0|          130|\n",
      "| Dongfeng|        Box 42.3 kWh|                40.0|          140|\n",
      "|  Renault|4 E-Tech 40kWh 120hp|                40.0|          150|\n",
      "|  Renault|5 E-Tech 40kWh 120hp|                40.0|          150|\n",
      "+---------+--------------------+--------------------+-------------+\n",
      "only showing top 20 rows\n"
     ]
    }
   ],
   "source": [
    "(\n",
    "    df\n",
    "    .select(\"brand\", \"model\", \"battery_capacity_kWh\", \"top_speed_kmh\")\n",
    "    .orderBy(\"battery_capacity_kWh\", \"top_speed_kmh\").show()\n",
    ")"
   ]
  },
  {
   "cell_type": "markdown",
   "id": "a824e8ff-7700-4926-ab9d-389da325faa8",
   "metadata": {},
   "source": [
    "----\n",
    "## "
   ]
  },
  {
   "cell_type": "markdown",
   "id": "4efdf762-7286-4935-82b2-541585a541f7",
   "metadata": {},
   "source": [
    "### __Handling Nulls__"
   ]
  },
  {
   "cell_type": "markdown",
   "id": "8e536220-b218-4e7d-82ed-d8e32d9fa053",
   "metadata": {},
   "source": [
    "18. Count how many null values are present in each column."
   ]
  },
  {
   "cell_type": "code",
   "execution_count": 11,
   "id": "f2246424-eeb7-4c15-968b-fb9c060d0e62",
   "metadata": {},
   "outputs": [
    {
     "name": "stdout",
     "output_type": "stream",
     "text": [
      "+--------------------+---+\n",
      "|                 key|  0|\n",
      "+--------------------+---+\n",
      "|               model|  1|\n",
      "|       top_speed_kmh|  0|\n",
      "|battery_capacity_kWh|  0|\n",
      "|        battery_type|  0|\n",
      "|     number_of_cells|202|\n",
      "|           torque_nm|  7|\n",
      "|efficiency_wh_per_km|  0|\n",
      "|            range_km|  0|\n",
      "|acceleration_0_100_s|  0|\n",
      "|fast_charging_pow...|  1|\n",
      "|    fast_charge_port|  1|\n",
      "|  towing_capacity_kg| 26|\n",
      "|      cargo_volume_l|  4|\n",
      "|               seats|  0|\n",
      "|          drivetrain|  0|\n",
      "|             segment|  0|\n",
      "|           length_mm|  0|\n",
      "|            width_mm|  0|\n",
      "|           height_mm|  0|\n",
      "|       car_body_type|  0|\n",
      "|          source_url|  0|\n",
      "+--------------------+---+\n",
      "\n"
     ]
    }
   ],
   "source": [
    "(\n",
    "    df\n",
    "    .select([psf.sum(psf.col(c).isNull().cast(\"int\")).alias(c) for c in df.columns])\n",
    "    .transpose()\n",
    "    .show(22)\n",
    ")"
   ]
  },
  {
   "cell_type": "markdown",
   "id": "5e0922ed-d7dc-4ea8-8a32-a5bbca228beb",
   "metadata": {},
   "source": [
    "---\n",
    "## "
   ]
  },
  {
   "cell_type": "markdown",
   "id": "fdc63a74-674f-444c-af78-d63ec2d4c999",
   "metadata": {},
   "source": [
    "19. Drop rows with any null values."
   ]
  },
  {
   "cell_type": "code",
   "execution_count": 127,
   "id": "2d08c73c-39af-4c22-9995-30835f2e29be",
   "metadata": {},
   "outputs": [],
   "source": [
    "df_dropped_rows = (\n",
    "    df\n",
    "    .na\n",
    "    .drop()\n",
    ")"
   ]
  },
  {
   "cell_type": "code",
   "execution_count": 130,
   "id": "18321478-eef9-4565-ae5d-da341a2f0942",
   "metadata": {},
   "outputs": [
    {
     "name": "stdout",
     "output_type": "stream",
     "text": [
      "+------+--------------------+\n",
      "| brand|               model|\n",
      "+------+--------------------+\n",
      "|Abarth|    500e Convertible|\n",
      "|Abarth|      500e Hatchback|\n",
      "|Abarth| 600e Scorpionissima|\n",
      "|Abarth|        600e Turismo|\n",
      "|  Alfa|Romeo Junior Elet...|\n",
      "|  Alfa|Romeo Junior Elet...|\n",
      "|Alpine|A290 Electric 180 hp|\n",
      "|Alpine|A290 Electric 220 hp|\n",
      "|  Audi|     A6 Avant e-tron|\n",
      "|  Audi|A6 Avant e-tron p...|\n",
      "+------+--------------------+\n",
      "only showing top 10 rows\n"
     ]
    }
   ],
   "source": [
    "(\n",
    "    df_dropped_rows\n",
    "    .select(\"brand\", \"model\")\n",
    "    .show(10)\n",
    ")"
   ]
  },
  {
   "cell_type": "markdown",
   "id": "7eafe5a5-b2e4-4908-9b1f-4dfa80446f7b",
   "metadata": {},
   "source": [
    "----\n",
    "## "
   ]
  },
  {
   "cell_type": "markdown",
   "id": "d12cd817-7897-47ad-b09b-10cb99525e0b",
   "metadata": {},
   "source": [
    "20. Fill nulls in `number_of_cells` with 0."
   ]
  },
  {
   "cell_type": "code",
   "execution_count": 131,
   "id": "ae3a019f-9a9b-4c1a-b13c-59fb64a8fa69",
   "metadata": {},
   "outputs": [],
   "source": [
    "df_filled = (\n",
    "    df\n",
    "    .select(\"number_of_cells\")\n",
    "    .fillna(0)\n",
    ")"
   ]
  },
  {
   "cell_type": "code",
   "execution_count": 132,
   "id": "0b3958fa-8db7-4d55-9104-307aae817a0c",
   "metadata": {},
   "outputs": [
    {
     "name": "stdout",
     "output_type": "stream",
     "text": [
      "+---------------+\n",
      "|number_of_cells|\n",
      "+---------------+\n",
      "|            192|\n",
      "|            192|\n",
      "|            102|\n",
      "|            102|\n",
      "|              0|\n",
      "|              0|\n",
      "|            102|\n",
      "|            102|\n",
      "|            184|\n",
      "|            184|\n",
      "+---------------+\n",
      "only showing top 10 rows\n"
     ]
    }
   ],
   "source": [
    "(\n",
    "    df_filled\n",
    "    .select(\"number_of_cells\")\n",
    "    .show(10)\n",
    ")"
   ]
  },
  {
   "cell_type": "markdown",
   "id": "12781267-a261-4381-8e34-27f36d0bb3eb",
   "metadata": {},
   "source": [
    "---\n",
    "## "
   ]
  },
  {
   "cell_type": "markdown",
   "id": "12261e05-2241-4f3e-9d9a-cdc934f03d5b",
   "metadata": {},
   "source": [
    "21. Fill nulls in `towing_capacity_kg` with the mean value of the column."
   ]
  },
  {
   "cell_type": "code",
   "execution_count": 140,
   "id": "73c09dac-51ab-4b7b-b11a-24da6316bc50",
   "metadata": {},
   "outputs": [],
   "source": [
    "mean_val = (\n",
    "    df\n",
    "    .select(psf.mean(\"towing_capacity_kg\"))\n",
    "    .first()\n",
    ")[0]"
   ]
  },
  {
   "cell_type": "code",
   "execution_count": 141,
   "id": "1cb48704-2da2-419b-a0bd-31d5d6ea0a94",
   "metadata": {
    "scrolled": true
   },
   "outputs": [],
   "source": [
    "df_filled_with_mean = (\n",
    "    df\n",
    "    .select(\"brand\", \"model\", \"towing_capacity_kg\")\n",
    "    .fillna({\"towing_capacity_kg\": mean_val})\n",
    ")"
   ]
  },
  {
   "cell_type": "code",
   "execution_count": 142,
   "id": "f3fb1595-68fe-478f-bdce-7e4325076488",
   "metadata": {},
   "outputs": [
    {
     "name": "stdout",
     "output_type": "stream",
     "text": [
      "+------+--------------------+------------------+\n",
      "| brand|               model|towing_capacity_kg|\n",
      "+------+--------------------+------------------+\n",
      "|Abarth|    500e Convertible|                 0|\n",
      "|Abarth|      500e Hatchback|                 0|\n",
      "|Abarth| 600e Scorpionissima|                 0|\n",
      "|Abarth|        600e Turismo|                 0|\n",
      "|Aiways|                  U5|              1052|\n",
      "|Aiways|                  U6|              1052|\n",
      "|  Alfa|Romeo Junior Elet...|                 0|\n",
      "|  Alfa|Romeo Junior Elet...|                 0|\n",
      "|Alpine|A290 Electric 180 hp|               500|\n",
      "|Alpine|A290 Electric 220 hp|               500|\n",
      "+------+--------------------+------------------+\n",
      "only showing top 10 rows\n"
     ]
    }
   ],
   "source": [
    "df_filled_with_mean.show(10)"
   ]
  },
  {
   "cell_type": "markdown",
   "id": "56700b16-e3c9-4eb2-bec6-e468ed12f0a3",
   "metadata": {},
   "source": [
    "-----"
   ]
  },
  {
   "cell_type": "markdown",
   "id": "805c11a6-ed64-486b-8067-2678ae448f83",
   "metadata": {},
   "source": [
    "##"
   ]
  },
  {
   "cell_type": "markdown",
   "id": "e907ed12-2b3d-4070-86d1-666d3561adba",
   "metadata": {},
   "source": [
    "### __Distinct & Deduplication__\n",
    "22. Get distinct values from the `brand` column."
   ]
  },
  {
   "cell_type": "code",
   "execution_count": 10,
   "id": "c11df272-7372-4525-a7b1-e2dbba0cbbff",
   "metadata": {},
   "outputs": [
    {
     "name": "stdout",
     "output_type": "stream",
     "text": [
      "+-----------+\n",
      "|      brand|\n",
      "+-----------+\n",
      "|  Leapmotor|\n",
      "| Volkswagen|\n",
      "|    Peugeot|\n",
      "|        NIO|\n",
      "|      Lexus|\n",
      "|   Polestar|\n",
      "|     Jaguar|\n",
      "|   Maserati|\n",
      "|Rolls-Royce|\n",
      "|       Jeep|\n",
      "+-----------+\n",
      "only showing top 10 rows\n"
     ]
    }
   ],
   "source": [
    "(\n",
    "    df\n",
    "    .select(\"brand\")\n",
    "    .distinct()\n",
    "    .show(10)\n",
    ")"
   ]
  },
  {
   "cell_type": "markdown",
   "id": "fa5e2f8d-ae67-46aa-b0b3-9d4a41cd6133",
   "metadata": {},
   "source": [
    "----"
   ]
  },
  {
   "cell_type": "markdown",
   "id": "6aa66ad2-f5a6-4cbe-98c7-316a542e7378",
   "metadata": {},
   "source": [
    "##\n",
    "23. Drop duplicate rows from the DataFrame."
   ]
  },
  {
   "cell_type": "code",
   "execution_count": 12,
   "id": "21bba499-b445-4027-822b-b21c6fb3be95",
   "metadata": {},
   "outputs": [],
   "source": [
    "df_without_duplicates = (\n",
    "    df\n",
    "    .dropDuplicates()\n",
    ")"
   ]
  },
  {
   "cell_type": "code",
   "execution_count": 14,
   "id": "de8c3f4d-eb55-4a39-b7c5-48c87694940a",
   "metadata": {},
   "outputs": [
    {
     "name": "stdout",
     "output_type": "stream",
     "text": [
      "+-------+--------------------+\n",
      "|  brand|               model|\n",
      "+-------+--------------------+\n",
      "|   Ford|Capri Extended Ra...|\n",
      "|Citroen|e-SpaceTourer XL ...|\n",
      "|Hyundai|IONIQ 6 Standard ...|\n",
      "|    NIO|      EL7 Long Range|\n",
      "|Porsche|      Macan Electric|\n",
      "|    BYD|SEAL U 87 kWh Design|\n",
      "|   Fiat|  500e Cabrio 42 kWh|\n",
      "|  Skoda|      Enyaq Coupe 60|\n",
      "|  Tesla|Model 3 Long Rang...|\n",
      "|   Audi|Q6 e-tron perform...|\n",
      "+-------+--------------------+\n",
      "only showing top 10 rows\n"
     ]
    }
   ],
   "source": [
    "(\n",
    "    df_without_duplicates\n",
    "    .select(\"brand\", \"model\")\n",
    "    .show(10)\n",
    ")"
   ]
  },
  {
   "cell_type": "markdown",
   "id": "532dcc87-4acc-4039-94f3-8260bbe7f501",
   "metadata": {},
   "source": [
    "----\n",
    "##"
   ]
  },
  {
   "cell_type": "markdown",
   "id": "09175f04-61d7-49ab-8f64-68a6564ab6e7",
   "metadata": {},
   "source": [
    "### __String & Column Operations__\n",
    "\n",
    "24. Add a new column `brand_model` by concatenating `brand` and `model`."
   ]
  },
  {
   "cell_type": "code",
   "execution_count": 21,
   "id": "984a5b55-447b-4cdd-8b6b-f4d701393545",
   "metadata": {},
   "outputs": [],
   "source": [
    "df_with_brand_model = (\n",
    "    df\n",
    "    .withColumn(\"brand_model\", psf.concat_ws(\" \", \"brand\", \"model\"))\n",
    ")"
   ]
  },
  {
   "cell_type": "code",
   "execution_count": 22,
   "id": "2725a4be-5ebb-4da3-bc7a-91c4abc7ffa5",
   "metadata": {},
   "outputs": [
    {
     "name": "stdout",
     "output_type": "stream",
     "text": [
      "+------+------------------------------------+-----------------------------------------+\n",
      "|brand |model                               |brand_model                              |\n",
      "+------+------------------------------------+-----------------------------------------+\n",
      "|Abarth|500e Convertible                    |Abarth 500e Convertible                  |\n",
      "|Abarth|500e Hatchback                      |Abarth 500e Hatchback                    |\n",
      "|Abarth|600e Scorpionissima                 |Abarth 600e Scorpionissima               |\n",
      "|Abarth|600e Turismo                        |Abarth 600e Turismo                      |\n",
      "|Aiways|U5                                  |Aiways U5                                |\n",
      "|Aiways|U6                                  |Aiways U6                                |\n",
      "|Alfa  |Romeo Junior Elettrica 54 kWh       |Alfa Romeo Junior Elettrica 54 kWh       |\n",
      "|Alfa  |Romeo Junior Elettrica 54 kWh Veloce|Alfa Romeo Junior Elettrica 54 kWh Veloce|\n",
      "|Alpine|A290 Electric 180 hp                |Alpine A290 Electric 180 hp              |\n",
      "|Alpine|A290 Electric 220 hp                |Alpine A290 Electric 220 hp              |\n",
      "+------+------------------------------------+-----------------------------------------+\n",
      "only showing top 10 rows\n"
     ]
    }
   ],
   "source": [
    "(\n",
    "    df_with_brand_model\n",
    "    .select(\"brand\", \"model\", \"brand_model\")\n",
    "    .show(10, truncate=False)\n",
    ")"
   ]
  },
  {
   "cell_type": "markdown",
   "id": "7859a840-b5b7-43e7-a9bc-d493e21b919d",
   "metadata": {},
   "source": [
    "---\n",
    "## "
   ]
  },
  {
   "cell_type": "markdown",
   "id": "b678245f-7c48-4e3e-88b4-f79aa4a36d30",
   "metadata": {},
   "source": [
    "25. Extract domain name from the `source_url`."
   ]
  },
  {
   "cell_type": "code",
   "execution_count": 25,
   "id": "c1307baf-a052-4fb3-adec-66f68ce8546a",
   "metadata": {},
   "outputs": [
    {
     "name": "stdout",
     "output_type": "stream",
     "text": [
      "+--------------------------------------------------------------------------+---------------+\n",
      "|source_url                                                                |domain         |\n",
      "+--------------------------------------------------------------------------+---------------+\n",
      "|https://ev-database.org/car/1904/Abarth-500e-Convertible                  |ev-database.org|\n",
      "|https://ev-database.org/car/1903/Abarth-500e-Hatchback                    |ev-database.org|\n",
      "|https://ev-database.org/car/3057/Abarth-600e-Scorpionissima               |ev-database.org|\n",
      "|https://ev-database.org/car/3056/Abarth-600e-Turismo                      |ev-database.org|\n",
      "|https://ev-database.org/car/1678/Aiways-U5                                |ev-database.org|\n",
      "|https://ev-database.org/car/1766/Aiways-U6                                |ev-database.org|\n",
      "|https://ev-database.org/car/2184/Alfa-Romeo-Junior-Elettrica-54-kWh       |ev-database.org|\n",
      "|https://ev-database.org/car/2185/Alfa-Romeo-Junior-Elettrica-54-kWh-Veloce|ev-database.org|\n",
      "|https://ev-database.org/car/2268/Alpine-A290-Electric-180-hp              |ev-database.org|\n",
      "|https://ev-database.org/car/2269/Alpine-A290-Electric-220-hp              |ev-database.org|\n",
      "+--------------------------------------------------------------------------+---------------+\n",
      "only showing top 10 rows\n"
     ]
    }
   ],
   "source": [
    "(\n",
    "    df\n",
    "    .withColumn(\"domain\", psf.regexp_extract(\"source_url\", r\"https?://([^/]+)/\", 1))\n",
    "    .select(\"source_url\", \"domain\")\n",
    "    .show(10, truncate=False)\n",
    ")"
   ]
  },
  {
   "cell_type": "markdown",
   "id": "cae09823-c949-41ea-9e8e-4d1aff61efa1",
   "metadata": {},
   "source": [
    "---\n",
    "## "
   ]
  },
  {
   "cell_type": "markdown",
   "id": "bf0a8f64-3499-44a6-aaa5-0c3624539135",
   "metadata": {},
   "source": [
    "### __Type Casting__"
   ]
  },
  {
   "cell_type": "markdown",
   "id": "ff477a43-6fc1-4737-b666-b4f391ef89c8",
   "metadata": {},
   "source": [
    "26. Cast `battery_capacity_kWh` from float to integer."
   ]
  },
  {
   "cell_type": "code",
   "execution_count": 26,
   "id": "1be848f6-b097-414a-97d4-0a23321d55ae",
   "metadata": {},
   "outputs": [],
   "source": [
    "df_battery_in_int = (\n",
    "    df.withColumn(\"battery_capacity_kWh_int\", psf.col(\"battery_capacity_kWh\").cast(\"int\"))\n",
    "    .drop(\"battery_capacity_kWh\")\n",
    ")"
   ]
  },
  {
   "cell_type": "code",
   "execution_count": 27,
   "id": "11c663f9-3f6a-401c-b1c3-0226e8059d90",
   "metadata": {},
   "outputs": [
    {
     "name": "stdout",
     "output_type": "stream",
     "text": [
      "+------+------------------------+\n",
      "| brand|battery_capacity_kWh_int|\n",
      "+------+------------------------+\n",
      "|Abarth|                      37|\n",
      "|Abarth|                      37|\n",
      "|Abarth|                      50|\n",
      "|Abarth|                      50|\n",
      "|Aiways|                      60|\n",
      "|Aiways|                      60|\n",
      "|  Alfa|                      50|\n",
      "|  Alfa|                      50|\n",
      "|Alpine|                      52|\n",
      "|Alpine|                      52|\n",
      "+------+------------------------+\n",
      "only showing top 10 rows\n"
     ]
    }
   ],
   "source": [
    "df_battery_in_int.select(\"brand\", \"battery_capacity_kWh_int\").show(10)"
   ]
  },
  {
   "cell_type": "markdown",
   "id": "1ad3238b-9c61-4a07-b6d3-e8fdbd96f648",
   "metadata": {},
   "source": [
    "----\n",
    "## "
   ]
  },
  {
   "cell_type": "markdown",
   "id": "c9891a5f-3c1a-4b8e-a428-fbc33aa2285c",
   "metadata": {},
   "source": [
    "27. Convert `range_km` to string."
   ]
  },
  {
   "cell_type": "code",
   "execution_count": 29,
   "id": "a3964dfc-b6eb-44cf-823d-5b333b5ef0e2",
   "metadata": {},
   "outputs": [],
   "source": [
    "df_range_km_in_string = (\n",
    "    df\n",
    "    .withColumn(\"range_km_str\", psf.col(\"range_km\").cast(\"string\"))\n",
    "    .drop(\"range_km\")\n",
    ")"
   ]
  },
  {
   "cell_type": "code",
   "execution_count": 32,
   "id": "adb82b0b-2aba-448a-84f1-d30499bccef5",
   "metadata": {},
   "outputs": [
    {
     "name": "stdout",
     "output_type": "stream",
     "text": [
      "+------+------------+\n",
      "| brand|range_km_str|\n",
      "+------+------------+\n",
      "|Abarth|         225|\n",
      "|Abarth|         225|\n",
      "|Abarth|         280|\n",
      "|Abarth|         280|\n",
      "|Aiways|         315|\n",
      "|Aiways|         350|\n",
      "|  Alfa|         320|\n",
      "|  Alfa|         310|\n",
      "|Alpine|         310|\n",
      "|Alpine|         305|\n",
      "+------+------------+\n",
      "only showing top 10 rows\n"
     ]
    }
   ],
   "source": [
    "(\n",
    "    df_range_km_in_string\n",
    "    .select(\"brand\", \"range_km_str\")\n",
    "    .show(10)\n",
    ")"
   ]
  },
  {
   "cell_type": "markdown",
   "id": "cf53ce52-a1a2-42b1-8842-b8fb27073c14",
   "metadata": {},
   "source": [
    "---\n",
    "## "
   ]
  },
  {
   "cell_type": "markdown",
   "id": "025b4f48-0c98-4e5c-ac26-292edf1bbe7a",
   "metadata": {},
   "source": [
    "### __Basic UDFs__\n",
    "\n",
    "28. Create a UDF to categorize cars as \"High Range\" (>300 km) or \"Low Range\"."
   ]
  },
  {
   "cell_type": "code",
   "execution_count": 15,
   "id": "760b6314-1047-4d11-94f8-8d5428ef554a",
   "metadata": {
    "scrolled": true
   },
   "outputs": [],
   "source": [
    "# Using pandas UDF\n",
    "def categorize_cars(range_km: pd.Series) -> pd.Series:\n",
    "    return range_km.apply(lambda x: \"High Range\" if x > 300 else \"Low Range\")"
   ]
  },
  {
   "cell_type": "code",
   "execution_count": 16,
   "id": "2cc52dd8-1451-42d2-ac1d-0830163a1cd6",
   "metadata": {},
   "outputs": [],
   "source": [
    "categorize_udf = psf.pandas_udf(categorize_cars, returnType=pst.StringType())"
   ]
  },
  {
   "cell_type": "code",
   "execution_count": 17,
   "id": "ec748494-0ed5-426c-a64c-4d48b9f3c827",
   "metadata": {},
   "outputs": [],
   "source": [
    "df_with_categories = (\n",
    "    df\n",
    "    .withColumn(\"Category\", categorize_udf(psf.col(\"range_km\")))\n",
    ")"
   ]
  },
  {
   "cell_type": "code",
   "execution_count": 18,
   "id": "74ead93f-c063-4531-a0d7-a89acb1067a6",
   "metadata": {},
   "outputs": [
    {
     "name": "stdout",
     "output_type": "stream",
     "text": [
      "+------+--------+----------+\n",
      "| brand|range_km|  Category|\n",
      "+------+--------+----------+\n",
      "|Abarth|     225| Low Range|\n",
      "|Abarth|     225| Low Range|\n",
      "|Abarth|     280| Low Range|\n",
      "|Abarth|     280| Low Range|\n",
      "|Aiways|     315|High Range|\n",
      "|Aiways|     350|High Range|\n",
      "|  Alfa|     320|High Range|\n",
      "|  Alfa|     310|High Range|\n",
      "|Alpine|     310|High Range|\n",
      "|Alpine|     305|High Range|\n",
      "+------+--------+----------+\n",
      "only showing top 10 rows\n"
     ]
    }
   ],
   "source": [
    "(\n",
    "    df_with_categories\n",
    "    .select(\"brand\", \"range_km\", \"Category\")\n",
    "    .show(10)\n",
    ")"
   ]
  },
  {
   "cell_type": "markdown",
   "id": "33bf2ddd-6551-43d7-a117-523fe3b4fc31",
   "metadata": {},
   "source": [
    "---\n",
    "##\n",
    "29. Create a UDF to compute `power_density = battery_capacity_kWh / length_mm`."
   ]
  },
  {
   "cell_type": "code",
   "execution_count": 20,
   "id": "3fa85b7b-f012-438c-afe3-eafe02b95bb3",
   "metadata": {},
   "outputs": [],
   "source": [
    "# Using pandas UDF\n",
    "def compute_power_density(capacity: pd.Series, length: pd.Series) -> pd.Series:\n",
    "    result = capacity * length\n",
    "    return result"
   ]
  },
  {
   "cell_type": "code",
   "execution_count": 25,
   "id": "673690cd-a7dc-463d-b177-51cbbd7df63a",
   "metadata": {},
   "outputs": [],
   "source": [
    "compute_power_density_udf = psf.pandas_udf(compute_power_density, returnType = pst.FloatType())"
   ]
  },
  {
   "cell_type": "code",
   "execution_count": 26,
   "id": "97d92760-83e5-4390-b6ef-0a4e91587444",
   "metadata": {},
   "outputs": [],
   "source": [
    "df_with_power_density = (\n",
    "    df\n",
    "    .withColumn(\"power_density\", compute_power_density_udf(psf.col(\"battery_capacity_kWh\"), psf.col(\"length_mm\")))\n",
    ")"
   ]
  },
  {
   "cell_type": "code",
   "execution_count": 27,
   "id": "014d0f46-0cb6-45af-abb9-d7a0f7e24237",
   "metadata": {},
   "outputs": [
    {
     "name": "stdout",
     "output_type": "stream",
     "text": [
      "+------+--------------------+---------+-------------+\n",
      "| brand|battery_capacity_kWh|length_mm|power_density|\n",
      "+------+--------------------+---------+-------------+\n",
      "|Abarth|                37.8|     3673|     138839.4|\n",
      "|Abarth|                37.8|     3673|     138839.4|\n",
      "|Abarth|                50.8|     4187|     212699.6|\n",
      "|Abarth|                50.8|     4187|     212699.6|\n",
      "|Aiways|                60.0|     4680|     280800.0|\n",
      "|Aiways|                60.0|     4805|     288300.0|\n",
      "|  Alfa|                50.8|     4173|     211988.4|\n",
      "|  Alfa|                50.8|     4173|     211988.4|\n",
      "|Alpine|                52.0|     3997|     207844.0|\n",
      "|Alpine|                52.0|     3997|     207844.0|\n",
      "+------+--------------------+---------+-------------+\n",
      "only showing top 10 rows\n"
     ]
    }
   ],
   "source": [
    "(\n",
    "    df_with_power_density\n",
    "    .select(\"brand\", \"battery_capacity_kWh\", \"length_mm\", \"power_density\")\n",
    "    .show(10)\n",
    ")"
   ]
  },
  {
   "cell_type": "markdown",
   "id": "4361eec3-556d-4d16-aae6-ed64d0804355",
   "metadata": {},
   "source": [
    "---\n",
    "## \n",
    "\n",
    "### __More Selections__\n",
    "\n",
    "30. Create a column `is_fast_charge_supported` where `fast_charging_power_kw_dc` > 50."
   ]
  },
  {
   "cell_type": "code",
   "execution_count": 35,
   "id": "14ac1611-fe92-467d-82ac-62b4ed73f52f",
   "metadata": {},
   "outputs": [],
   "source": [
    "df_with_new_col = (\n",
    "    df\n",
    "    .withColumn(\"is_fast_charge_supported\", psf.expr(\"fast_charging_power_kw_dc > 50\"))\n",
    ")"
   ]
  },
  {
   "cell_type": "code",
   "execution_count": 37,
   "id": "0f5c6ff2-7554-4b1e-9096-92931cc2e1c3",
   "metadata": {},
   "outputs": [
    {
     "name": "stdout",
     "output_type": "stream",
     "text": [
      "+------+-------------------------+------------------------+\n",
      "| brand|fast_charging_power_kw_dc|is_fast_charge_supported|\n",
      "+------+-------------------------+------------------------+\n",
      "|Abarth|                       67|                    true|\n",
      "|Abarth|                       67|                    true|\n",
      "|Abarth|                       79|                    true|\n",
      "|Abarth|                       79|                    true|\n",
      "|Aiways|                       78|                    true|\n",
      "|Aiways|                       78|                    true|\n",
      "|  Alfa|                       85|                    true|\n",
      "|  Alfa|                       85|                    true|\n",
      "|Alpine|                       70|                    true|\n",
      "|Alpine|                       70|                    true|\n",
      "+------+-------------------------+------------------------+\n",
      "only showing top 10 rows\n"
     ]
    }
   ],
   "source": [
    "(\n",
    "    df_with_new_col\n",
    "    .select(\"brand\", \"fast_charging_power_kw_dc\", \"is_fast_charge_supported\")\n",
    "    .show(10)\n",
    ")"
   ]
  },
  {
   "cell_type": "markdown",
   "id": "3e6e4966-755e-4c13-9bf8-6672d829df91",
   "metadata": {},
   "source": [
    "----\n",
    "## \n",
    "31. Filter all rows where `car_body_type` is \"SUV\"."
   ]
  },
  {
   "cell_type": "code",
   "execution_count": 41,
   "id": "6831136b-6915-47b0-a00d-ec049978eeae",
   "metadata": {},
   "outputs": [],
   "source": [
    "df_SUV_only = (\n",
    "    df\n",
    "    .where(psf.expr(\"car_body_type == 'SUV'\"))\n",
    ")"
   ]
  },
  {
   "cell_type": "code",
   "execution_count": 42,
   "id": "be356049-595f-4be1-aecf-ab1a4c1538bc",
   "metadata": {},
   "outputs": [
    {
     "name": "stdout",
     "output_type": "stream",
     "text": [
      "+------+-------------+\n",
      "| brand|car_body_type|\n",
      "+------+-------------+\n",
      "|Abarth|          SUV|\n",
      "|Abarth|          SUV|\n",
      "|Aiways|          SUV|\n",
      "|Aiways|          SUV|\n",
      "|  Alfa|          SUV|\n",
      "|  Alfa|          SUV|\n",
      "|  Audi|          SUV|\n",
      "|  Audi|          SUV|\n",
      "|  Audi|          SUV|\n",
      "|  Audi|          SUV|\n",
      "+------+-------------+\n",
      "only showing top 10 rows\n"
     ]
    }
   ],
   "source": [
    "(\n",
    "    df_SUV_only\n",
    "    .select(\"brand\", \"car_body_type\")\n",
    "    .show(10)\n",
    ")"
   ]
  },
  {
   "cell_type": "markdown",
   "id": "d85ace99-e943-4046-9fbd-49646b1b9a62",
   "metadata": {},
   "source": [
    "---\n",
    "## "
   ]
  },
  {
   "cell_type": "markdown",
   "id": "63e4a0b3-a026-4737-9e68-a80b7b4cd46f",
   "metadata": {},
   "source": [
    "### __DataFrame Metadata__\n",
    "32. Show all column names and their data types."
   ]
  },
  {
   "cell_type": "code",
   "execution_count": 45,
   "id": "9f7dd48e-1611-4b7b-8d21-998bca622540",
   "metadata": {},
   "outputs": [
    {
     "name": "stdout",
     "output_type": "stream",
     "text": [
      "root\n",
      " |-- brand: string (nullable = true)\n",
      " |-- model: string (nullable = true)\n",
      " |-- top_speed_kmh: integer (nullable = true)\n",
      " |-- battery_capacity_kWh: double (nullable = true)\n",
      " |-- battery_type: string (nullable = true)\n",
      " |-- number_of_cells: integer (nullable = true)\n",
      " |-- torque_nm: integer (nullable = true)\n",
      " |-- efficiency_wh_per_km: integer (nullable = true)\n",
      " |-- range_km: integer (nullable = true)\n",
      " |-- acceleration_0_100_s: double (nullable = true)\n",
      " |-- fast_charging_power_kw_dc: integer (nullable = true)\n",
      " |-- fast_charge_port: string (nullable = true)\n",
      " |-- towing_capacity_kg: integer (nullable = true)\n",
      " |-- cargo_volume_l: integer (nullable = true)\n",
      " |-- seats: integer (nullable = true)\n",
      " |-- drivetrain: string (nullable = true)\n",
      " |-- segment: string (nullable = true)\n",
      " |-- length_mm: integer (nullable = true)\n",
      " |-- width_mm: integer (nullable = true)\n",
      " |-- height_mm: integer (nullable = true)\n",
      " |-- car_body_type: string (nullable = true)\n",
      " |-- source_url: string (nullable = true)\n",
      "\n"
     ]
    }
   ],
   "source": [
    "df.printSchema()"
   ]
  },
  {
   "cell_type": "code",
   "execution_count": 46,
   "id": "630fa41c-86f4-4b3d-b3ab-6893cac9e18b",
   "metadata": {},
   "outputs": [
    {
     "data": {
      "text/plain": [
       "[('brand', 'string'),\n",
       " ('model', 'string'),\n",
       " ('top_speed_kmh', 'int'),\n",
       " ('battery_capacity_kWh', 'double'),\n",
       " ('battery_type', 'string'),\n",
       " ('number_of_cells', 'int'),\n",
       " ('torque_nm', 'int'),\n",
       " ('efficiency_wh_per_km', 'int'),\n",
       " ('range_km', 'int'),\n",
       " ('acceleration_0_100_s', 'double'),\n",
       " ('fast_charging_power_kw_dc', 'int'),\n",
       " ('fast_charge_port', 'string'),\n",
       " ('towing_capacity_kg', 'int'),\n",
       " ('cargo_volume_l', 'int'),\n",
       " ('seats', 'int'),\n",
       " ('drivetrain', 'string'),\n",
       " ('segment', 'string'),\n",
       " ('length_mm', 'int'),\n",
       " ('width_mm', 'int'),\n",
       " ('height_mm', 'int'),\n",
       " ('car_body_type', 'string'),\n",
       " ('source_url', 'string')]"
      ]
     },
     "execution_count": 46,
     "metadata": {},
     "output_type": "execute_result"
    }
   ],
   "source": [
    "df.dtypes"
   ]
  },
  {
   "cell_type": "markdown",
   "id": "35385f7f-61c3-4f2c-bca2-12e042ab3e12",
   "metadata": {},
   "source": [
    "----\n",
    "##\n",
    "33. Count total number of rows in the DataFrame."
   ]
  },
  {
   "cell_type": "code",
   "execution_count": 47,
   "id": "5944187a-c069-4341-90ed-62a3d07f0d93",
   "metadata": {},
   "outputs": [
    {
     "data": {
      "text/plain": [
       "478"
      ]
     },
     "execution_count": 47,
     "metadata": {},
     "output_type": "execute_result"
    }
   ],
   "source": [
    "(\n",
    "    df\n",
    "    .count()\n",
    ")"
   ]
  },
  {
   "cell_type": "markdown",
   "id": "3bfd81c3-6cdb-4f52-a0da-0b70083a4eb0",
   "metadata": {},
   "source": [
    "----\n",
    "##\n",
    "34. Check if all entries in the `drivetrain` column are the same."
   ]
  },
  {
   "cell_type": "code",
   "execution_count": 48,
   "id": "4ae5b1ac-c2b5-40a5-bdb5-17a8bdd3d292",
   "metadata": {},
   "outputs": [
    {
     "name": "stdout",
     "output_type": "stream",
     "text": [
      "+----------+\n",
      "|drivetrain|\n",
      "+----------+\n",
      "|       FWD|\n",
      "|       AWD|\n",
      "|       RWD|\n",
      "+----------+\n",
      "\n"
     ]
    }
   ],
   "source": [
    "(\n",
    "    df\n",
    "    .select(\"drivetrain\")\n",
    "    .distinct()\n",
    "    .show()\n",
    ")"
   ]
  },
  {
   "cell_type": "markdown",
   "id": "47a26636-9705-4b47-b0da-976dafd9078c",
   "metadata": {},
   "source": [
    "---\n",
    "## \n",
    "35. Count the number of vehicles per number of seats."
   ]
  },
  {
   "cell_type": "code",
   "execution_count": 50,
   "id": "4a685334-6570-4669-babc-54f06abab4bc",
   "metadata": {},
   "outputs": [
    {
     "name": "stdout",
     "output_type": "stream",
     "text": [
      "+-----+---------------+\n",
      "|seats|count_per_seats|\n",
      "+-----+---------------+\n",
      "|    6|              5|\n",
      "|    5|            383|\n",
      "|    9|             15|\n",
      "|    4|             27|\n",
      "|    8|              7|\n",
      "|    7|             38|\n",
      "|    2|              3|\n",
      "+-----+---------------+\n",
      "\n"
     ]
    }
   ],
   "source": [
    "(\n",
    "    df\n",
    "    .groupBy(\"seats\")\n",
    "    .agg(psf.count(\"*\").alias(\"count_per_seats\"))\n",
    "    .show()\n",
    ")"
   ]
  },
  {
   "cell_type": "markdown",
   "id": "038cabd4-177f-409d-8a17-b47a98593d24",
   "metadata": {},
   "source": [
    "----\n",
    "#"
   ]
  },
  {
   "cell_type": "markdown",
   "id": "a413a4cb-0778-4edb-9dee-33fbbf3f684a",
   "metadata": {},
   "source": [
    "# __Medium Level (15 Questions)__\n",
    "\n",
    "Focus: Window functions, advanced aggregations, joins, UDFs, pivot/unpivot, JSON export, date functions (simulated), performance tuning basics.\n",
    "\n",
    "### __Window Functions & Advanced Aggregations__\n",
    "\n",
    "36. For each `brand`, rank vehicles by `range_km` in descending order."
   ]
  },
  {
   "cell_type": "code",
   "execution_count": 54,
   "id": "a2c70e36-837b-4ecb-8397-f93a6566bc4f",
   "metadata": {},
   "outputs": [],
   "source": [
    "windowSpec = psw.Window.partitionBy(\"brand\").orderBy(psf.col(\"range_km\").desc())"
   ]
  },
  {
   "cell_type": "code",
   "execution_count": 55,
   "id": "cd510743-be71-4323-9f6a-079230eb42a1",
   "metadata": {},
   "outputs": [],
   "source": [
    "df_with_range_rank = (\n",
    "    df\n",
    "    .withColumn(\"range_rank\", psf.rank().over(windowSpec))\n",
    ")"
   ]
  },
  {
   "cell_type": "code",
   "execution_count": 57,
   "id": "92e4b77e-f9f1-4996-bd2b-24803633f229",
   "metadata": {},
   "outputs": [
    {
     "name": "stdout",
     "output_type": "stream",
     "text": [
      "+------+--------+----------+\n",
      "| brand|range_km|range_rank|\n",
      "+------+--------+----------+\n",
      "|Abarth|     280|         1|\n",
      "|Abarth|     280|         1|\n",
      "|Abarth|     225|         3|\n",
      "|Abarth|     225|         3|\n",
      "|Aiways|     350|         1|\n",
      "|Aiways|     315|         2|\n",
      "|  Alfa|     320|         1|\n",
      "|  Alfa|     310|         2|\n",
      "|Alpine|     310|         1|\n",
      "|Alpine|     305|         2|\n",
      "+------+--------+----------+\n",
      "only showing top 10 rows\n"
     ]
    }
   ],
   "source": [
    "(\n",
    "    df_with_range_rank\n",
    "    .select(\"brand\", \"range_km\", \"range_rank\")\n",
    "    .show(10)\n",
    ")"
   ]
  },
  {
   "cell_type": "markdown",
   "id": "03019e9d-5fec-4f1f-82d2-b3babe213903",
   "metadata": {},
   "source": [
    "---\n",
    "## "
   ]
  },
  {
   "cell_type": "markdown",
   "id": "0f8afb73-4901-4c89-810b-6d26ba433633",
   "metadata": {},
   "source": [
    "37. Calculate the average `battery_capacity_kWh` and standard deviation per `car_body_type`."
   ]
  },
  {
   "cell_type": "code",
   "execution_count": 58,
   "id": "e211e309-cc6c-46d7-ba67-9f40229db05d",
   "metadata": {},
   "outputs": [],
   "source": [
    "df_with_avg_stdDev = (\n",
    "    df\n",
    "    .groupBy(\"car_body_type\")\n",
    "    .agg(psf.mean(\"battery_capacity_kWh\").alias(\"average\"), \n",
    "         psf.stddev(\"battery_capacity_kWh\").alias(\"standard deviation\"))\n",
    ")"
   ]
  },
  {
   "cell_type": "code",
   "execution_count": 59,
   "id": "7ffa0b8a-81e6-4a5d-afcd-7eafeb4f4437",
   "metadata": {},
   "outputs": [
    {
     "name": "stdout",
     "output_type": "stream",
     "text": [
      "+-------------------+-----------------+------------------+\n",
      "|      car_body_type|          average|standard deviation|\n",
      "+-------------------+-----------------+------------------+\n",
      "|          Hatchback|49.73684210526315| 14.51156720367469|\n",
      "|                SUV|76.68729508196722|18.244932845760577|\n",
      "|              Sedan| 86.8047619047619| 16.47529361010512|\n",
      "|     Liftback Sedan|85.52121212121212|12.055619995871156|\n",
      "|Small Passenger Van|60.01489361702127|14.491211410389768|\n",
      "|          Cabriolet|            58.08| 27.10289652417247|\n",
      "|              Coupe|             92.5|13.435028842544403|\n",
      "|     Station/Estate|83.67407407407407|15.848309606356047|\n",
      "+-------------------+-----------------+------------------+\n",
      "\n"
     ]
    }
   ],
   "source": [
    "df_with_avg_stdDev.show(10)"
   ]
  },
  {
   "cell_type": "markdown",
   "id": "05d800be-d207-4396-8851-61329e8f1717",
   "metadata": {},
   "source": [
    "---\n",
    "## \n",
    "38. Find the vehicle with the longest `range_km` for each `segment`."
   ]
  },
  {
   "cell_type": "code",
   "execution_count": 62,
   "id": "c06d99aa-f9e4-4f40-9dbf-98905264c02f",
   "metadata": {},
   "outputs": [
    {
     "name": "stdout",
     "output_type": "stream",
     "text": [
      "+-----------------+-------------+\n",
      "|          segment|longest_range|\n",
      "+-----------------+-------------+\n",
      "|     JB - Compact|          455|\n",
      "|N - Passenger Van|          370|\n",
      "|         A - Mini|          225|\n",
      "|      B - Compact|          330|\n",
      "|       F - Luxury|          685|\n",
      "|       JD - Large|          545|\n",
      "|       C - Medium|          495|\n",
      "|        D - Large|          565|\n",
      "|    E - Executive|          555|\n",
      "|      JF - Luxury|          540|\n",
      "|       I - Luxury|          465|\n",
      "|        JA - Mini|          300|\n",
      "|      JC - Medium|          500|\n",
      "|       G - Sports|          425|\n",
      "|   JE - Executive|          610|\n",
      "+-----------------+-------------+\n",
      "\n"
     ]
    }
   ],
   "source": [
    "(\n",
    "    df\n",
    "    .groupBy(\"segment\")\n",
    "    .agg(psf.max(\"range_km\").alias(\"longest_range\"))\n",
    "    .show()\n",
    ")"
   ]
  },
  {
   "cell_type": "markdown",
   "id": "e467e117-c28d-4c53-92e7-71641dc3dcd1",
   "metadata": {},
   "source": [
    "---\n",
    "##\n"
   ]
  },
  {
   "cell_type": "markdown",
   "id": "4e732ef3-e1c9-4fb8-a391-b328c22db5cb",
   "metadata": {},
   "source": [
    "### __Pivoting__\n",
    "\n",
    "39. Pivot the data to show average `range_km` for each `car_body_type` per `drivetrain`."
   ]
  },
  {
   "cell_type": "code",
   "execution_count": 76,
   "id": "2cfba189-75d3-4aa1-b3d9-f61c6a7baa23",
   "metadata": {},
   "outputs": [
    {
     "name": "stdout",
     "output_type": "stream",
     "text": [
      "+-------------------+-----------------+------------------+------------------+\n",
      "|                key|              AWD|               FWD|               RWD|\n",
      "+-------------------+-----------------+------------------+------------------+\n",
      "|          Cabriolet|            395.0|             182.5|             425.0|\n",
      "|              Coupe|            442.5|              NULL|              NULL|\n",
      "|          Hatchback|            320.0|277.95454545454544|             392.5|\n",
      "|     Liftback Sedan|            505.0|              NULL|             468.0|\n",
      "|                SUV|424.1818181818182| 348.2258064516129| 395.8333333333333|\n",
      "|              Sedan|           510.75|             362.5|511.47058823529414|\n",
      "|Small Passenger Van|            340.0|234.73684210526315|277.85714285714283|\n",
      "|     Station/Estate|         488.4375|             302.5|497.85714285714283|\n",
      "+-------------------+-----------------+------------------+------------------+\n",
      "\n"
     ]
    }
   ],
   "source": [
    "(\n",
    "    df\n",
    "    .groupBy(\"drivetrain\")\n",
    "    .pivot(\"car_body_type\")\n",
    "    .agg(psf.avg(\"range_km\"))\n",
    "    .transpose()  # Just for printing it \n",
    "    .show(10)\n",
    ")"
   ]
  },
  {
   "cell_type": "markdown",
   "id": "2e5adaff-421f-43e9-a61c-dc7d9e0a2934",
   "metadata": {},
   "source": [
    "----\n",
    "## \n",
    "### __Advanced UDFs__\n",
    "40. Create a UDF to classify vehicles into: \"City EV\", \"Highway EV\", or \"Performance EV\" based on `acceleration_0_100_s` and `range_km`."
   ]
  },
  {
   "cell_type": "raw",
   "id": "929af1a6-7da8-4cc4-ad99-90dce6163736",
   "metadata": {},
   "source": [
    "def classify_vehicle(accel, range_km):\n",
    "    if accel is None or range_km is None:\n",
    "        return \"Unknown\"\n",
    "    if accel < 6:\n",
    "        return \"Performance EV\"\n",
    "    elif range_km > 300:\n",
    "        return \"Highway EV\"\n",
    "    else:\n",
    "        return \"City EV\"\n",
    "\n",
    "from pyspark.sql.functions import udf\n",
    "from pyspark.sql.types import StringType\n",
    "\n",
    "classify_udf = udf(classify_vehicle, StringType())\n",
    "df.withColumn(\"ev_type\", classify_udf(\"acceleration_0_100_s\", \"range_km\")).show()\n"
   ]
  },
  {
   "cell_type": "code",
   "execution_count": 78,
   "id": "0f8b8c06-3615-4420-a1f6-50949593c114",
   "metadata": {},
   "outputs": [],
   "source": [
    "# Using pandas UDFs for better performance\n",
    "def classify_vehicle(acceleration: pd.Series, range_km: pd.Series) -> pd.Series:\n",
    "    result = []\n",
    "    for a, r in zip(acceleration, range_km):\n",
    "        if pd.isnull(a) or pd.isnull(r):\n",
    "            result.append(\"Unknown\")\n",
    "        elif a < 6:\n",
    "            result.append(\"Performance EV\")\n",
    "        elif r > 300:\n",
    "            result.append(\"Highway EV\")\n",
    "        else:\n",
    "            result.append(\"City EV\")\n",
    "\n",
    "    return pd.Series(result)"
   ]
  },
  {
   "cell_type": "code",
   "execution_count": 79,
   "id": "c4856375-4a10-4588-b165-333d8483f338",
   "metadata": {},
   "outputs": [],
   "source": [
    "classify_vehicles_udf = psf.pandas_udf(classify_vehicle, returnType=pst.StringType())"
   ]
  },
  {
   "cell_type": "code",
   "execution_count": 80,
   "id": "5041f33d-d58e-4170-9035-f4c18b0e2f51",
   "metadata": {},
   "outputs": [],
   "source": [
    "df_with_classified_vehicles = (\n",
    "    df\n",
    "    .withColumn(\"class\", classify_vehicles_udf(psf.col(\"acceleration_0_100_s\"), psf.col(\"range_km\")))\n",
    ")"
   ]
  },
  {
   "cell_type": "code",
   "execution_count": 81,
   "id": "3821ab36-54af-4e64-add9-3d0f327b3498",
   "metadata": {},
   "outputs": [
    {
     "name": "stdout",
     "output_type": "stream",
     "text": [
      "+------+--------------------+--------+--------------+\n",
      "| brand|acceleration_0_100_s|range_km|         class|\n",
      "+------+--------------------+--------+--------------+\n",
      "|Abarth|                 7.0|     225|       City EV|\n",
      "|Abarth|                 7.0|     225|       City EV|\n",
      "|Abarth|                 5.9|     280|Performance EV|\n",
      "|Abarth|                 6.2|     280|       City EV|\n",
      "|Aiways|                 7.5|     315|    Highway EV|\n",
      "|Aiways|                 7.0|     350|    Highway EV|\n",
      "|  Alfa|                 9.0|     320|    Highway EV|\n",
      "|  Alfa|                 6.0|     310|    Highway EV|\n",
      "|Alpine|                 7.4|     310|    Highway EV|\n",
      "|Alpine|                 6.4|     305|    Highway EV|\n",
      "+------+--------------------+--------+--------------+\n",
      "only showing top 10 rows\n"
     ]
    }
   ],
   "source": [
    "(\n",
    "    df_with_classified_vehicles\n",
    "    .select(\"brand\", \"acceleration_0_100_s\", \"range_km\", \"class\")\n",
    "    .show(10)\n",
    ")"
   ]
  },
  {
   "cell_type": "markdown",
   "id": "905dd945-2f2e-4fa8-8bab-10410e706d9f",
   "metadata": {},
   "source": [
    "----\n",
    "## \n"
   ]
  },
  {
   "cell_type": "markdown",
   "id": "a130bfe2-c4ac-41ab-b2e6-6ebefca7b582",
   "metadata": {},
   "source": [
    "### __Joins (Synthetic example)__"
   ]
  },
  {
   "cell_type": "markdown",
   "id": "e14e34ae-9895-4d8c-aee5-eae1310c3dbd",
   "metadata": {},
   "source": [
    "41. Assume you have another DataFrame with `brand` and `country`. Join it with the EV DataFrame on `brand`."
   ]
  },
  {
   "cell_type": "markdown",
   "id": "18d01507-ae1b-47db-92fe-067e05f75da8",
   "metadata": {},
   "source": [
    "```python\n",
    "(\n",
    "    df\n",
    "    .join(df_country, on=\"brand\", how=\"left\")\n",
    "    .show()\n",
    ")\n",
    "```"
   ]
  },
  {
   "cell_type": "markdown",
   "id": "111df63f-4c3e-41ff-9196-e922098a0572",
   "metadata": {},
   "source": [
    "----\n",
    "##"
   ]
  },
  {
   "cell_type": "markdown",
   "id": "cf9cda87-880d-442b-b51c-f7d4f05fa845",
   "metadata": {},
   "source": [
    "### __Complex Filtering & Conditions__\n",
    "\n",
    "42. Find SUVs with a top speed over 180 km/h and efficiency under 160 Wh/km.\n"
   ]
  },
  {
   "cell_type": "code",
   "execution_count": 85,
   "id": "7fcb439e-17a7-4575-b0a6-57a438e1f2af",
   "metadata": {},
   "outputs": [
    {
     "data": {
      "text/plain": [
       "['brand',\n",
       " 'model',\n",
       " 'top_speed_kmh',\n",
       " 'battery_capacity_kWh',\n",
       " 'battery_type',\n",
       " 'number_of_cells',\n",
       " 'torque_nm',\n",
       " 'efficiency_wh_per_km',\n",
       " 'range_km',\n",
       " 'acceleration_0_100_s',\n",
       " 'fast_charging_power_kw_dc',\n",
       " 'fast_charge_port',\n",
       " 'towing_capacity_kg',\n",
       " 'cargo_volume_l',\n",
       " 'seats',\n",
       " 'drivetrain',\n",
       " 'segment',\n",
       " 'length_mm',\n",
       " 'width_mm',\n",
       " 'height_mm',\n",
       " 'car_body_type',\n",
       " 'source_url']"
      ]
     },
     "execution_count": 85,
     "metadata": {},
     "output_type": "execute_result"
    }
   ],
   "source": [
    "df.columns"
   ]
  },
  {
   "cell_type": "code",
   "execution_count": 87,
   "id": "fe0e2a95-d9e4-45d2-bd13-c98d06751e65",
   "metadata": {},
   "outputs": [
    {
     "name": "stdout",
     "output_type": "stream",
     "text": [
      "+-------+--------------------+-------------+--------------------+\n",
      "|  brand|               model|top_speed_kmh|efficiency_wh_per_km|\n",
      "+-------+--------------------+-------------+--------------------+\n",
      "| Abarth| 600e Scorpionissima|          200|                 158|\n",
      "| Abarth|        600e Turismo|          200|                 158|\n",
      "|   Audi| Q6 e-tron Sportback|          210|                 139|\n",
      "|   Audi|Q6 e-tron Sportba...|          210|                 145|\n",
      "|   Audi|Q6 e-tron Sportba...|          210|                 149|\n",
      "|     DS|  N°8 AWD Long Range|          190|                 146|\n",
      "|     DS|             N°8 FWD|          190|                 141|\n",
      "|     DS|  N°8 FWD Long Range|          190|                 136|\n",
      "|Genesis|        GV60 Premium|          185|                 143|\n",
      "|Genesis|          GV60 Sport|          200|                 157|\n",
      "+-------+--------------------+-------------+--------------------+\n",
      "only showing top 10 rows\n"
     ]
    }
   ],
   "source": [
    "(\n",
    "    df\n",
    "    .select(\"brand\", \"model\", \"top_speed_kmh\", \"efficiency_wh_per_km\")\n",
    "    .filter(psf.col(\"car_body_type\") == \"SUV\")\n",
    "    .filter(psf.col(\"top_speed_kmh\") > 180)\n",
    "    .filter(psf.col(\"efficiency_wh_per_km\") < 160)\n",
    "    .show(10)\n",
    ")"
   ]
  },
  {
   "cell_type": "markdown",
   "id": "308e4351-5fb1-456d-bbf0-2868d5958301",
   "metadata": {},
   "source": [
    "----"
   ]
  },
  {
   "cell_type": "markdown",
   "id": "6b4b0b2b-aa5d-4949-9a29-4720f3e815df",
   "metadata": {},
   "source": [
    "##\n"
   ]
  },
  {
   "cell_type": "markdown",
   "id": "455dac2e-dfdb-43df-a26b-a37a7cc4d235",
   "metadata": {},
   "source": [
    "### __JSON Export & Schema__\n",
    "\n",
    "43. Write the DataFrame to a JSON file with inferred schema."
   ]
  },
  {
   "cell_type": "code",
   "execution_count": 92,
   "id": "316d46e4-5a8b-49a2-b2d4-1e5dec63be98",
   "metadata": {},
   "outputs": [],
   "source": [
    "file_path = \"exported_json\""
   ]
  },
  {
   "cell_type": "code",
   "execution_count": 93,
   "id": "64bcdca4-4964-4963-8247-7ea65999b7a5",
   "metadata": {},
   "outputs": [],
   "source": [
    "(\n",
    "    df\n",
    "    .write\n",
    "    .mode(\"overwrite\")\n",
    "    .format(\"json\")\n",
    "    .save(file_path)\n",
    ")"
   ]
  },
  {
   "cell_type": "markdown",
   "id": "0b1c4798-4681-49cb-b083-60279186855a",
   "metadata": {},
   "source": [
    "----\n",
    "##"
   ]
  },
  {
   "cell_type": "markdown",
   "id": "2dfee670-7934-4103-8511-7b6538c6be7c",
   "metadata": {},
   "source": [
    "44. Infer schema manually using `StructType` and load the json using it."
   ]
  },
  {
   "cell_type": "code",
   "execution_count": 94,
   "id": "9c2e0797-175b-47bc-8533-80a00c37221a",
   "metadata": {},
   "outputs": [],
   "source": [
    "file_path = \"exported_json/part-00000-e1c2171c-df5c-4740-96bd-089ebb96ea1d-c000.json\""
   ]
  },
  {
   "cell_type": "code",
   "execution_count": 97,
   "id": "45a85ce0-bd24-4693-ac99-d40ea8a7f856",
   "metadata": {},
   "outputs": [],
   "source": [
    "schema = pst.StructType([\n",
    "    pst.StructField(\"brand\", pst.StringType(), True),\n",
    "    pst.StructField(\"model\", pst.StringType(), True),\n",
    "    pst.StructField(\"top_speed_kmh\", pst.IntegerType(), True),\n",
    "    pst.StructField(\"battery_capacity_kWh\", pst.DoubleType(), True),\n",
    "    pst.StructField(\"battery_type\", pst.StringType(), True),\n",
    "    pst.StructField(\"number_of_cells\", pst.DoubleType(), True),\n",
    "    pst.StructField(\"torque_nm\", pst.DoubleType(), True),\n",
    "    pst.StructField(\"efficiency_wh_per_km\", pst.IntegerType(), True),\n",
    "    pst.StructField(\"range_km\", pst.IntegerType(), True),\n",
    "    pst.StructField(\"acceleration_0_100_s\", pst.DoubleType(), True),\n",
    "    pst.StructField(\"fast_charging_power_kw_dc\", pst.DoubleType(), True),\n",
    "    pst.StructField(\"fast_charge_port\", pst.StringType(), True),\n",
    "    pst.StructField(\"towing_capacity_kg\", pst.DoubleType(), True),\n",
    "    pst.StructField(\"cargo_volume_l\", pst.IntegerType(), True),\n",
    "    pst.StructField(\"seats\", pst.IntegerType(), True),\n",
    "    pst.StructField(\"drivetrain\", pst.StringType(), True),\n",
    "    pst.StructField(\"segment\", pst.StringType(), True),\n",
    "    pst.StructField(\"length_mm\", pst.IntegerType(), True),\n",
    "    pst.StructField(\"width_mm\", pst.IntegerType(), True),\n",
    "    pst.StructField(\"height_mm\", pst.IntegerType(), True),\n",
    "    pst.StructField(\"car_body_type\", pst.StringType(), True),\n",
    "    pst.StructField(\"source_url\", pst.StringType(), True)\n",
    "])"
   ]
  },
  {
   "cell_type": "code",
   "execution_count": 99,
   "id": "008182f9-37d9-4196-9cff-f1b6d28a0431",
   "metadata": {},
   "outputs": [],
   "source": [
    "df_read_from_json = (\n",
    "    spark\n",
    "    .read\n",
    "    .schema(schema)\n",
    "    .json(file_path)\n",
    ")"
   ]
  },
  {
   "cell_type": "code",
   "execution_count": 100,
   "id": "25b584bd-ef38-4724-a02b-1125ae23107a",
   "metadata": {},
   "outputs": [
    {
     "name": "stdout",
     "output_type": "stream",
     "text": [
      "+------+--------------------+-------------+--------------------+\n",
      "| brand|               model|car_body_type|          source_url|\n",
      "+------+--------------------+-------------+--------------------+\n",
      "|Abarth|    500e Convertible|    Hatchback|https://ev-databa...|\n",
      "|Abarth|      500e Hatchback|    Hatchback|https://ev-databa...|\n",
      "|Abarth| 600e Scorpionissima|          SUV|https://ev-databa...|\n",
      "|Abarth|        600e Turismo|          SUV|https://ev-databa...|\n",
      "|Aiways|                  U5|          SUV|https://ev-databa...|\n",
      "|Aiways|                  U6|          SUV|https://ev-databa...|\n",
      "|  Alfa|Romeo Junior Elet...|          SUV|https://ev-databa...|\n",
      "|  Alfa|Romeo Junior Elet...|          SUV|https://ev-databa...|\n",
      "|Alpine|A290 Electric 180 hp|    Hatchback|https://ev-databa...|\n",
      "|Alpine|A290 Electric 220 hp|    Hatchback|https://ev-databa...|\n",
      "+------+--------------------+-------------+--------------------+\n",
      "only showing top 10 rows\n"
     ]
    }
   ],
   "source": [
    "(\n",
    "    df_read_from_json\n",
    "    .select(\"brand\", \"model\", \"car_body_type\", \"source_url\")\n",
    "    .show(10)\n",
    ")"
   ]
  },
  {
   "cell_type": "markdown",
   "id": "ad4bfc8c-6f11-4e29-af75-a40fbe3fe551",
   "metadata": {},
   "source": [
    "---\n",
    "##"
   ]
  },
  {
   "cell_type": "markdown",
   "id": "b5ea17f6-5d9a-47f9-bbcd-3c228837fcf6",
   "metadata": {},
   "source": [
    "### __Unpivot (Melt-like)__\n",
    "\n",
    "45. Transform the column-based format into a long format for `top_speed_kmh`, `range_km`, and `efficiency_wh_per_km`."
   ]
  },
  {
   "cell_type": "code",
   "execution_count": 103,
   "id": "0b3f74e5-8bad-463d-bd50-1a4cf16b8957",
   "metadata": {},
   "outputs": [
    {
     "name": "stdout",
     "output_type": "stream",
     "text": [
      "+------+--------------------+--------------------+-----+\n",
      "| brand|               model|              metric|value|\n",
      "+------+--------------------+--------------------+-----+\n",
      "|Abarth|    500e Convertible|       top_speed_kmh|  155|\n",
      "|Abarth|    500e Convertible|            range_km|  225|\n",
      "|Abarth|    500e Convertible|efficiency_wh_per_km|  156|\n",
      "|Abarth|      500e Hatchback|       top_speed_kmh|  155|\n",
      "|Abarth|      500e Hatchback|            range_km|  225|\n",
      "|Abarth|      500e Hatchback|efficiency_wh_per_km|  149|\n",
      "|Abarth| 600e Scorpionissima|       top_speed_kmh|  200|\n",
      "|Abarth| 600e Scorpionissima|            range_km|  280|\n",
      "|Abarth| 600e Scorpionissima|efficiency_wh_per_km|  158|\n",
      "|Abarth|        600e Turismo|       top_speed_kmh|  200|\n",
      "|Abarth|        600e Turismo|            range_km|  280|\n",
      "|Abarth|        600e Turismo|efficiency_wh_per_km|  158|\n",
      "|Aiways|                  U5|       top_speed_kmh|  150|\n",
      "|Aiways|                  U5|            range_km|  315|\n",
      "|Aiways|                  U5|efficiency_wh_per_km|  156|\n",
      "|Aiways|                  U6|       top_speed_kmh|  160|\n",
      "|Aiways|                  U6|            range_km|  350|\n",
      "|Aiways|                  U6|efficiency_wh_per_km|  150|\n",
      "|  Alfa|Romeo Junior Elet...|       top_speed_kmh|  150|\n",
      "|  Alfa|Romeo Junior Elet...|            range_km|  320|\n",
      "+------+--------------------+--------------------+-----+\n",
      "only showing top 20 rows\n"
     ]
    }
   ],
   "source": [
    "from pyspark.sql.functions import posexplode, array, struct, lit, explode, col\n",
    "\n",
    "unpivoted = df.select(\n",
    "    \"brand\", \"model\",\n",
    "    explode(array(\n",
    "        struct(lit(\"top_speed_kmh\").alias(\"metric\"), col(\"top_speed_kmh\").alias(\"value\")),\n",
    "        struct(lit(\"range_km\").alias(\"metric\"), col(\"range_km\").alias(\"value\")),\n",
    "        struct(lit(\"efficiency_wh_per_km\").alias(\"metric\"), col(\"efficiency_wh_per_km\").alias(\"value\"))\n",
    "    )).alias(\"kv\")\n",
    ").select(\"brand\", \"model\", col(\"kv.metric\"), col(\"kv.value\"))\n",
    "\n",
    "unpivoted.show()"
   ]
  },
  {
   "cell_type": "markdown",
   "id": "0b9ab6d1-c0d3-434e-918a-f08e15c2efbf",
   "metadata": {},
   "source": [
    "> below is the efficient version (using pandas UDF)"
   ]
  },
  {
   "cell_type": "markdown",
   "id": "40190184-e601-4166-93b0-715bec6a2358",
   "metadata": {},
   "source": [
    "```python\n",
    "from pyspark.sql.functions import pandas_udf\n",
    "from pyspark.sql.types import StructType, StructField, StringType, DoubleType\n",
    "import pandas as pd\n",
    "\n",
    "# Define output schema for the long format\n",
    "output_schema = StructType([\n",
    "    StructField(\"brand\", StringType()),\n",
    "    StructField(\"model\", StringType()),\n",
    "    StructField(\"metric\", StringType()),\n",
    "    StructField(\"value\", DoubleType())\n",
    "])\n",
    "\n",
    "# Pandas UDF for unpivoting\n",
    "@pandas_udf(output_schema)\n",
    "def unpivot_udf(pdf: pd.DataFrame) -> pd.DataFrame:\n",
    "    id_vars = [\"brand\", \"model\"]\n",
    "    value_vars = [\"top_speed_kmh\", \"range_km\", \"efficiency_wh_per_km\"]\n",
    "    \n",
    "    # Melt to long format\n",
    "    melted = pd.melt(\n",
    "        pdf,\n",
    "        id_vars=id_vars,\n",
    "        value_vars=value_vars,\n",
    "        var_name=\"metric\",\n",
    "        value_name=\"value\"\n",
    "    )\n",
    "    return melted\n",
    "\n",
    "unpivoted = df.groupBy(\"brand\", \"model\").apply(unpivot_udf)\n",
    "```"
   ]
  },
  {
   "cell_type": "markdown",
   "id": "92b695c2-aec6-466b-a4a4-550c2ecc0db4",
   "metadata": {},
   "source": [
    "----\n",
    "##"
   ]
  },
  {
   "cell_type": "markdown",
   "id": "470ec358-0166-4f1f-a391-92266b3c8d9b",
   "metadata": {},
   "source": [
    "### __Map & ReduceByKey (RDD-style)__\n",
    "\n",
    "46. Convert DataFrame to RDD and find average `battery_capacity_kWh` per brand using `reduceByKey`."
   ]
  },
  {
   "cell_type": "markdown",
   "id": "3f305806-809f-49ba-b1bf-0203bd20e8f3",
   "metadata": {},
   "source": [
    "```python\n",
    "rdd = df.select(\"brand\", \"battery_capacity_kWh\").rdd \\\n",
    "        .filter(lambda x: x[1] is not None) \\\n",
    "        .map(lambda x: (x[0], (x[1], 1)))\n",
    "\n",
    "brand_avg = rdd.reduceByKey(lambda a, b: (a[0] + b[0], a[1] + b[1])) \\\n",
    "               .mapValues(lambda x: x[0] / x[1])\n",
    "\n",
    "brand_avg.collect()\n",
    "```"
   ]
  },
  {
   "cell_type": "markdown",
   "id": "1059e1e9-4402-4ec4-a2cf-cf6d1fa43705",
   "metadata": {},
   "source": [
    "----\n",
    "##\n",
    "### __Performance Optimization__\n",
    "\n",
    "47. Cache the DataFrame and perform a groupBy operation. Measure execution time before and after caching."
   ]
  },
  {
   "cell_type": "code",
   "execution_count": 104,
   "id": "ac2a9dad-cfc4-42d5-b452-ff74dbfd7cb5",
   "metadata": {
    "scrolled": true
   },
   "outputs": [
    {
     "name": "stdout",
     "output_type": "stream",
     "text": [
      "+-------------------+-----+\n",
      "|      car_body_type|count|\n",
      "+-------------------+-----+\n",
      "|          Hatchback|   57|\n",
      "|                SUV|  244|\n",
      "|              Sedan|   63|\n",
      "|     Liftback Sedan|   33|\n",
      "|Small Passenger Van|   47|\n",
      "|          Cabriolet|    5|\n",
      "|              Coupe|    2|\n",
      "|     Station/Estate|   27|\n",
      "+-------------------+-----+\n",
      "\n",
      "Without cache: 0.4533965587615967\n",
      "+-------------------+-----+\n",
      "|      car_body_type|count|\n",
      "+-------------------+-----+\n",
      "|          Hatchback|   57|\n",
      "|                SUV|  244|\n",
      "|              Sedan|   63|\n",
      "|     Liftback Sedan|   33|\n",
      "|Small Passenger Van|   47|\n",
      "|          Cabriolet|    5|\n",
      "|              Coupe|    2|\n",
      "|     Station/Estate|   27|\n",
      "+-------------------+-----+\n",
      "\n",
      "With cache: 0.3217630386352539\n"
     ]
    }
   ],
   "source": [
    "import time\n",
    "\n",
    "start = time.time()\n",
    "df.groupBy(\"car_body_type\").count().show()\n",
    "print(\"Without cache:\", time.time() - start)\n",
    "\n",
    "df.cache()\n",
    "\n",
    "start = time.time()\n",
    "df.groupBy(\"car_body_type\").count().show()\n",
    "print(\"With cache:\", time.time() - start)"
   ]
  },
  {
   "cell_type": "markdown",
   "id": "2159ac62-237a-4906-b26f-74459e69389e",
   "metadata": {},
   "source": [
    "---\n",
    "##\n",
    "### __Nested Column Creation__\n",
    "\n",
    "48. Create a struct column called `performance` with `top_speed_kmh`, `acceleration_0_100_s`, and `torque_nm`."
   ]
  },
  {
   "cell_type": "markdown",
   "id": "5b298ae6-95c5-47d5-902f-85e1d568c978",
   "metadata": {},
   "source": [
    "df.withColumn(\"performance\", struct(\"top_speed_kmh\", \"torque_nm\", \"acceleration_0_100_s\")).select(\"brand\", \"model\", \"performance\").show(truncate=False)"
   ]
  },
  {
   "cell_type": "code",
   "execution_count": 105,
   "id": "5bc72984-9b18-419b-b3a4-ba801163f0c9",
   "metadata": {},
   "outputs": [],
   "source": [
    "df_with_performance_col = (\n",
    "    df\n",
    "    .withColumn(\"performance\", psf.struct(\"top_speed_kmh\", \"torque_nm\", \"acceleration_0_100_s\"))\n",
    "    .select(\"brand\", \"model\", \"performance\")\n",
    ")"
   ]
  },
  {
   "cell_type": "code",
   "execution_count": 106,
   "id": "2778f24f-5771-4b50-a786-0e62c5a43511",
   "metadata": {},
   "outputs": [
    {
     "name": "stdout",
     "output_type": "stream",
     "text": [
      "+------+--------------------+---------------+\n",
      "| brand|               model|    performance|\n",
      "+------+--------------------+---------------+\n",
      "|Abarth|    500e Convertible|{155, 235, 7.0}|\n",
      "|Abarth|      500e Hatchback|{155, 235, 7.0}|\n",
      "|Abarth| 600e Scorpionissima|{200, 345, 5.9}|\n",
      "|Abarth|        600e Turismo|{200, 345, 6.2}|\n",
      "|Aiways|                  U5|{150, 310, 7.5}|\n",
      "|Aiways|                  U6|{160, 315, 7.0}|\n",
      "|  Alfa|Romeo Junior Elet...|{150, 260, 9.0}|\n",
      "|  Alfa|Romeo Junior Elet...|{200, 345, 6.0}|\n",
      "|Alpine|A290 Electric 180 hp|{160, 285, 7.4}|\n",
      "|Alpine|A290 Electric 220 hp|{170, 300, 6.4}|\n",
      "+------+--------------------+---------------+\n",
      "only showing top 10 rows\n"
     ]
    }
   ],
   "source": [
    "df_with_performance_col.show(10)"
   ]
  },
  {
   "cell_type": "markdown",
   "id": "c1eebfcf-3dad-484d-9871-a3f933a9c1c7",
   "metadata": {},
   "source": [
    "---\n",
    "## "
   ]
  },
  {
   "cell_type": "markdown",
   "id": "a6bcc2bc-8186-4a63-bd52-e9bf08fd6d1d",
   "metadata": {},
   "source": [
    "### __Exploding Arrays__\n",
    "\n",
    "49. Create an array column of all performance metrics and explode it row-wise.\n"
   ]
  },
  {
   "cell_type": "code",
   "execution_count": 107,
   "id": "f8aee0c1-1798-479e-abb4-b181fabce08a",
   "metadata": {},
   "outputs": [
    {
     "name": "stdout",
     "output_type": "stream",
     "text": [
      "+------+-------------------+---------------+\n",
      "| brand|              model|exploded_metric|\n",
      "+------+-------------------+---------------+\n",
      "|Abarth|   500e Convertible|          155.0|\n",
      "|Abarth|   500e Convertible|          235.0|\n",
      "|Abarth|   500e Convertible|            7.0|\n",
      "|Abarth|     500e Hatchback|          155.0|\n",
      "|Abarth|     500e Hatchback|          235.0|\n",
      "|Abarth|     500e Hatchback|            7.0|\n",
      "|Abarth|600e Scorpionissima|          200.0|\n",
      "|Abarth|600e Scorpionissima|          345.0|\n",
      "|Abarth|600e Scorpionissima|            5.9|\n",
      "|Abarth|       600e Turismo|          200.0|\n",
      "+------+-------------------+---------------+\n",
      "only showing top 10 rows\n"
     ]
    }
   ],
   "source": [
    "(\n",
    "    df\n",
    "    .withColumn(\"performance_array\", array(\"top_speed_kmh\", \"torque_nm\", \"acceleration_0_100_s\"))\n",
    "    .withColumn(\"exploded_metric\", explode(\"performance_array\"))\n",
    "    .select(\"brand\", \"model\", \"exploded_metric\")\n",
    "    .show(10)\n",
    ")"
   ]
  },
  {
   "cell_type": "markdown",
   "id": "c4099d8e-b56b-432e-8778-d9720bc0e8d9",
   "metadata": {},
   "source": [
    "---\n",
    "## \n",
    "### __Complex Sorting__\n",
    "\n",
    "50. Sort cars by acceleration (ascending), then by torque (descending), and then by range.\n"
   ]
  },
  {
   "cell_type": "code",
   "execution_count": 109,
   "id": "dc1a94ac-04ca-491b-a02b-8aa7cc5549ba",
   "metadata": {},
   "outputs": [
    {
     "name": "stdout",
     "output_type": "stream",
     "text": [
      "+--------+--------------------+--------------------+---------+--------+\n",
      "|   brand|               model|acceleration_0_100_s|torque_nm|range_km|\n",
      "+--------+--------------------+--------------------+---------+--------+\n",
      "| Porsche|Taycan Turbo GT W...|                 2.2|     1340|     475|\n",
      "| Porsche|     Taycan Turbo GT|                 2.3|     1340|     475|\n",
      "|   Tesla|       Model S Plaid|                 2.3|     NULL|     560|\n",
      "| Porsche|      Taycan Turbo S|                 2.4|     1110|     525|\n",
      "| Porsche|Taycan Turbo S Sp...|                 2.4|     1110|     505|\n",
      "| Porsche|Taycan Turbo S Cr...|                 2.5|     1110|     485|\n",
      "|    Audi|e-tron GT RS perf...|                 2.5|     1027|     525|\n",
      "|Maserati| GranTurismo Folgore|                 2.7|     1350|     420|\n",
      "| Porsche|        Taycan Turbo|                 2.7|      940|     535|\n",
      "| Porsche|Taycan Turbo Spor...|                 2.7|      940|     505|\n",
      "|   Tesla|       Model X Plaid|                 2.7|     NULL|     465|\n",
      "|Maserati|  GranCabrio Folgore|                 2.8|     1350|     395|\n",
      "|   Lotus|             Emeya R|                 2.8|      985|     465|\n",
      "| Porsche|Taycan Turbo Cros...|                 2.8|      940|     495|\n",
      "|    Audi|        e-tron GT RS|                 2.8|      865|     525|\n",
      "|   Lotus|            Eletre R|                 2.9|      985|     455|\n",
      "|   Lucid|   Air Grand Touring|                 3.0|     1200|     665|\n",
      "|   Tesla|Model 3 Performan...|                 3.2|      741|     490|\n",
      "|      MG|        Cyberster GT|                 3.2|      725|     395|\n",
      "|   Lucid|         Air Touring|                 3.2|     NULL|     580|\n",
      "+--------+--------------------+--------------------+---------+--------+\n",
      "only showing top 20 rows\n"
     ]
    }
   ],
   "source": [
    "(\n",
    "    df\n",
    "    .orderBy(\n",
    "        psf.col(\"acceleration_0_100_s\").asc(),\n",
    "        psf.col(\"torque_nm\").desc(),\n",
    "        psf.col(\"range_km\").desc()\n",
    "    )\n",
    "    .select(\"brand\", \"model\", \"acceleration_0_100_s\", \"torque_nm\", \"range_km\")\n",
    "    .show()\n",
    ")"
   ]
  },
  {
   "cell_type": "markdown",
   "id": "4f30b3cd-3747-44c6-8463-e90ec5ea410d",
   "metadata": {},
   "source": [
    "---"
   ]
  }
 ],
 "metadata": {
  "kernelspec": {
   "display_name": "Python 3 (venv)",
   "language": "python",
   "name": "venv"
  },
  "language_info": {
   "codemirror_mode": {
    "name": "ipython",
    "version": 3
   },
   "file_extension": ".py",
   "mimetype": "text/x-python",
   "name": "python",
   "nbconvert_exporter": "python",
   "pygments_lexer": "ipython3",
   "version": "3.13.3"
  }
 },
 "nbformat": 4,
 "nbformat_minor": 5
}
